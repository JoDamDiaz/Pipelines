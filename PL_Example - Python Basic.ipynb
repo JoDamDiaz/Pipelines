{
 "cells": [
  {
   "cell_type": "markdown",
   "id": "29fbfecf",
   "metadata": {},
   "source": [
    "### Pipeline - Python Basic"
   ]
  },
  {
   "cell_type": "markdown",
   "id": "1634e6b8",
   "metadata": {},
   "source": [
    "#### Preparation previus tools"
   ]
  },
  {
   "cell_type": "code",
   "execution_count": 74,
   "id": "3e023904",
   "metadata": {},
   "outputs": [],
   "source": [
    "#Loading Libraries\n",
    "import pandas as pd\n",
    "import numpy as np\n",
    "import openpyxl\n",
    "import smtplib"
   ]
  },
  {
   "cell_type": "markdown",
   "id": "fb8434b7",
   "metadata": {},
   "source": [
    "###### This code´s help us to liberate all visual limits when you process the dataset"
   ]
  },
  {
   "cell_type": "code",
   "execution_count": 49,
   "id": "8360481c",
   "metadata": {},
   "outputs": [],
   "source": [
    "pd.set_option('display.max_rows', None)\n",
    "pd.set_option('display.max_columns', None)\n",
    "pd.set_option('display.max_colwidth', None)\n",
    "np.set_printoptions(threshold=np.inf)"
   ]
  },
  {
   "cell_type": "markdown",
   "id": "9dedc1e4",
   "metadata": {},
   "source": [
    "#### Uploading Dataset"
   ]
  },
  {
   "cell_type": "code",
   "execution_count": 13,
   "id": "6718d6dc",
   "metadata": {},
   "outputs": [],
   "source": [
    "# Upload Dataset\n",
    "\n",
    "url = \"https://www.datos.gov.co/resource/w8tr-p8mr.json?$limit=5000\"\n",
    "df_main = pd.read_json(url)"
   ]
  },
  {
   "cell_type": "markdown",
   "id": "26cd6830",
   "metadata": {},
   "source": [
    "###### Summary - Information on Electronic Contracts for SECOP I and II of the District Attorney's Office of Santiago de Cali"
   ]
  },
  {
   "cell_type": "markdown",
   "id": "c571bd1c",
   "metadata": {},
   "source": [
    "###### I want to work on real dataframes, those that we will really evidence in our day to day, for this I rely on the free database of the Colombian government, many of these data are fed from surveys or questionnaires, where there are no standards for the possible answers that can be given, for example for the name, we find values in lowercase and uppercase, so they are ideal to apply as many tools as possible."
   ]
  },
  {
   "cell_type": "markdown",
   "id": "d0f8be1f",
   "metadata": {},
   "source": [
    "###### Something important that we must have clear before starting to work on a dataset is its structure and its unit, all the measures or calculations that we do, must have results and it is of vital importance to know in what is expressed, if they are X amount of some product, for this specific case, for our DF the unit is CONTRACTS."
   ]
  },
  {
   "cell_type": "markdown",
   "id": "43e4d118",
   "metadata": {},
   "source": [
    "###### Unit: Contracts"
   ]
  },
  {
   "cell_type": "markdown",
   "id": "24a998ac",
   "metadata": {},
   "source": [
    "#### Getting to Know the Dataset"
   ]
  },
  {
   "cell_type": "markdown",
   "id": "b890be82",
   "metadata": {},
   "source": [
    "###### An important part before starting any pipeline is to understand the structure, form and content of the data with which we are going to deal, this to give us a glimpse of what we can find, in addition to begin to rule out errors that may affect us in the movement of information."
   ]
  },
  {
   "cell_type": "code",
   "execution_count": 19,
   "id": "169314dc",
   "metadata": {},
   "outputs": [
    {
     "data": {
      "text/plain": [
       "Index(['nivel_entidad', 'codigo_entidad_en_secop', 'nombre_de_la_entidad',\n",
       "       'nit_de_la_entidad', 'departamento_entidad', 'municipio_entidad',\n",
       "       'estado_del_proceso', 'modalidad_de_contrataci_n', 'objeto_a_contratar',\n",
       "       'objeto_del_proceso', 'tipo_de_contrato', 'fecha_de_firma_del_contrato',\n",
       "       'fecha_fin_ejecuci_n', 'numero_del_contrato', 'numero_de_proceso',\n",
       "       'valor_contrato', 'nom_raz_social_contratista', 'url_contrato',\n",
       "       'origen', 'tipo_documento_proveedor', 'documento_proveedor',\n",
       "       'fecha_inicio_ejecuci_n'],\n",
       "      dtype='object')"
      ]
     },
     "execution_count": 19,
     "metadata": {},
     "output_type": "execute_result"
    }
   ],
   "source": [
    "df_main.columns"
   ]
  },
  {
   "cell_type": "markdown",
   "id": "6ad58b5e",
   "metadata": {},
   "source": [
    "###### The first error, that I can find is the name of the last columns, in the Data movement, this can suffer changes by the conditions in each tool, in this dataframe the name suffered a change in its name because in the O it had a tilde, some databases do not know these symbols and change this for another in this case change Ó for _."
   ]
  },
  {
   "cell_type": "code",
   "execution_count": 20,
   "id": "e29a4c5a",
   "metadata": {},
   "outputs": [
    {
     "data": {
      "text/plain": [
       "(1941, 22)"
      ]
     },
     "execution_count": 20,
     "metadata": {},
     "output_type": "execute_result"
    }
   ],
   "source": [
    "df_main.shape"
   ]
  },
  {
   "cell_type": "markdown",
   "id": "1fcc5de6",
   "metadata": {},
   "source": [
    "###### We have to have clarity in the totality of the data because all the data that we have in the input, must appear in the output, regardless of the transformations and leaving aside if we have to make filters.\n",
    "###### So, our dataframe have a 1941 registers and 22 columns."
   ]
  },
  {
   "cell_type": "markdown",
   "id": "f14a8ce0",
   "metadata": {},
   "source": [
    "###### Tip: Always leave the main dataframe as a separate dataset, if you make changes, do it in the other dataframes created from the main dataframe, never use directly the main dataframe, because if you have an error, you must load again and in some cases this process is very difficult and slow."
   ]
  },
  {
   "cell_type": "markdown",
   "id": "2a8ef481",
   "metadata": {},
   "source": [
    "###### This is a very important step, because here we can know and standardize the dataset.\n",
    "###### "
   ]
  },
  {
   "cell_type": "markdown",
   "id": "cc023f78",
   "metadata": {},
   "source": [
    "##### Firts Step: Getting to Know our columns"
   ]
  },
  {
   "cell_type": "markdown",
   "id": "6ce5b52e",
   "metadata": {},
   "source": [
    "###### In this step, we will getting to know our columns, every one, his values and we can star the standardize process, so we going to consult every column and his unique values"
   ]
  },
  {
   "cell_type": "markdown",
   "id": "12bf2861",
   "metadata": {},
   "source": [
    "###### Unique Values"
   ]
  },
  {
   "cell_type": "code",
   "execution_count": 30,
   "id": "11318d9c",
   "metadata": {},
   "outputs": [
    {
     "data": {
      "text/plain": [
       "nivel_entidad                     1\n",
       "codigo_entidad_en_secop           1\n",
       "nombre_de_la_entidad              1\n",
       "nit_de_la_entidad                 1\n",
       "departamento_entidad              1\n",
       "municipio_entidad                 1\n",
       "estado_del_proceso                9\n",
       "modalidad_de_contrataci_n         8\n",
       "objeto_a_contratar             1059\n",
       "objeto_del_proceso             1057\n",
       "tipo_de_contrato                  4\n",
       "fecha_de_firma_del_contrato     332\n",
       "fecha_fin_ejecuci_n              52\n",
       "numero_del_contrato            1840\n",
       "numero_de_proceso              1812\n",
       "valor_contrato                  373\n",
       "nom_raz_social_contratista      601\n",
       "url_contrato                   1807\n",
       "origen                            1\n",
       "tipo_documento_proveedor          4\n",
       "documento_proveedor             601\n",
       "fecha_inicio_ejecuci_n          327\n",
       "dtype: int64"
      ]
     },
     "execution_count": 30,
     "metadata": {},
     "output_type": "execute_result"
    }
   ],
   "source": [
    "df_main.nunique()"
   ]
  },
  {
   "cell_type": "markdown",
   "id": "5e0d731b",
   "metadata": {},
   "source": [
    "###### Null Values"
   ]
  },
  {
   "cell_type": "code",
   "execution_count": 33,
   "id": "77356c3d",
   "metadata": {},
   "outputs": [
    {
     "data": {
      "text/plain": [
       "nivel_entidad                    0\n",
       "codigo_entidad_en_secop          0\n",
       "nombre_de_la_entidad             0\n",
       "nit_de_la_entidad                0\n",
       "departamento_entidad             0\n",
       "municipio_entidad                0\n",
       "estado_del_proceso               0\n",
       "modalidad_de_contrataci_n        0\n",
       "objeto_a_contratar               0\n",
       "objeto_del_proceso               0\n",
       "tipo_de_contrato                 0\n",
       "fecha_de_firma_del_contrato     96\n",
       "fecha_fin_ejecuci_n              4\n",
       "numero_del_contrato              0\n",
       "numero_de_proceso                0\n",
       "valor_contrato                   0\n",
       "nom_raz_social_contratista       0\n",
       "url_contrato                     0\n",
       "origen                           0\n",
       "tipo_documento_proveedor         0\n",
       "documento_proveedor              0\n",
       "fecha_inicio_ejecuci_n         136\n",
       "dtype: int64"
      ]
     },
     "execution_count": 33,
     "metadata": {},
     "output_type": "execute_result"
    }
   ],
   "source": [
    "df_main.isnull().sum()"
   ]
  },
  {
   "cell_type": "markdown",
   "id": "9209a4f0",
   "metadata": {},
   "source": [
    "###### If you want view every value for columns, you can use this line df_main.apply(lambda x: x.unique()), but in this case in some columns you have a lot values, more 1000 registers, and this code, it will saturate the visual with all the values, so it is better to check the unique values of each column in numbers and then check one by one, the ones we think are important to validate."
   ]
  },
  {
   "cell_type": "markdown",
   "id": "199dbdac",
   "metadata": {},
   "source": [
    "#### Cleaning and Transform Dataset"
   ]
  },
  {
   "cell_type": "markdown",
   "id": "fd6392c1",
   "metadata": {},
   "source": [
    "###### We will start with the identify the corrupt values on every column and solve that, if need."
   ]
  },
  {
   "cell_type": "markdown",
   "id": "246e8927",
   "metadata": {},
   "source": [
    "###### Estado_Del_Proceso Column"
   ]
  },
  {
   "cell_type": "code",
   "execution_count": 35,
   "id": "d89a1683",
   "metadata": {},
   "outputs": [
    {
     "data": {
      "text/plain": [
       "array(['Activo', 'En ejecución', 'terminado', 'Modificado', 'Suspendido',\n",
       "       'Cerrado', 'Borrador', 'Cancelado', 'enviado Proveedor'],\n",
       "      dtype=object)"
      ]
     },
     "execution_count": 35,
     "metadata": {},
     "output_type": "execute_result"
    }
   ],
   "source": [
    "df_main['estado_del_proceso'].unique()"
   ]
  },
  {
   "cell_type": "code",
   "execution_count": 36,
   "id": "e6d06cea",
   "metadata": {},
   "outputs": [],
   "source": [
    "df_main['estado_del_proceso'] = df_main['estado_del_proceso'].replace(\"En ejecución\", \"En Ejecución\")\n",
    "df_main['estado_del_proceso'] = df_main['estado_del_proceso'].replace(\"terminado\", \"Terminado\")\n",
    "df_main['estado_del_proceso'] = df_main['estado_del_proceso'].replace(\"enviado Proveedor\", \"Enviado a Proveedor\")"
   ]
  },
  {
   "cell_type": "code",
   "execution_count": 37,
   "id": "b68200c0",
   "metadata": {},
   "outputs": [
    {
     "data": {
      "text/plain": [
       "array(['Activo', 'En Ejecución', 'Terminado', 'Modificado', 'Suspendido',\n",
       "       'Cerrado', 'Borrador', 'Cancelado', 'Enviado a Proveedor'],\n",
       "      dtype=object)"
      ]
     },
     "execution_count": 37,
     "metadata": {},
     "output_type": "execute_result"
    }
   ],
   "source": [
    "df_main['estado_del_proceso'].unique()"
   ]
  },
  {
   "cell_type": "markdown",
   "id": "28f3d856",
   "metadata": {},
   "source": [
    "###### Modalidad_De_Contrataci_n Column"
   ]
  },
  {
   "cell_type": "code",
   "execution_count": 39,
   "id": "bb8f4cfe",
   "metadata": {},
   "outputs": [],
   "source": [
    "df_main.rename(columns={'modalidad_de_contrataci_n': 'modalidad_de_contratación'}, inplace=True)"
   ]
  },
  {
   "cell_type": "code",
   "execution_count": 40,
   "id": "b5551905",
   "metadata": {},
   "outputs": [
    {
     "data": {
      "text/plain": [
       "array(['Mínima cuantía', 'No Definido', 'Contratación directa',\n",
       "       'Selección Abreviada de Menor Cuantía',\n",
       "       'Contratación Directa (con ofertas)',\n",
       "       'Selección abreviada subasta inversa', 'Licitación pública',\n",
       "       'Seleccion Abreviada Menor Cuantia Sin Manifestacion Interes'],\n",
       "      dtype=object)"
      ]
     },
     "execution_count": 40,
     "metadata": {},
     "output_type": "execute_result"
    }
   ],
   "source": [
    "df_main['modalidad_de_contratación'].unique()"
   ]
  },
  {
   "cell_type": "code",
   "execution_count": null,
   "id": "6ecc00cf",
   "metadata": {},
   "outputs": [],
   "source": [
    "df_main['modalidad_de_contratación'] = df_main['modalidad_de_contratación'].replace(\"Mínima cuantía\", \"Mínima Cuantía\")\n",
    "df_main['modalidad_de_contratación'] = df_main['modalidad_de_contratación'].replace(\"Contratación directa\", \"Contratación Directa\")\n",
    "df_main['modalidad_de_contratación'] = df_main['modalidad_de_contratación'].replace(\"Contratación Directa (con ofertas)\", \"Contratación Directa\")\n",
    "df_main['modalidad_de_contratación'] = df_main['modalidad_de_contratación'].replace(\"Selección abreviada subasta inversa\", \"Selección Abreviada Subasta Inversa\")\n",
    "df_main['modalidad_de_contratación'] = df_main['modalidad_de_contratación'].replace(\"Licitación pública\", \"Licitación Pública\")\n",
    "df_main['modalidad_de_contratación'] = df_main['modalidad_de_contratación'].replace(\"Seleccion Abreviada Menor Cuantia Sin Manifestacion Interes\", \"Seleccion Abreviada Menor Cuantía Sin Manifestacion Interes\")"
   ]
  },
  {
   "cell_type": "code",
   "execution_count": 44,
   "id": "65112482",
   "metadata": {},
   "outputs": [
    {
     "data": {
      "text/plain": [
       "array(['Mínima Cuantía', 'No Definido', 'Contratación Directa',\n",
       "       'Selección Abreviada de Menor Cuantía',\n",
       "       'Selección Abreviada Subasta Inversa', 'Licitación Pública',\n",
       "       'Seleccion Abreviada Menor Cuantía Sin Manifestacion Interes'],\n",
       "      dtype=object)"
      ]
     },
     "execution_count": 44,
     "metadata": {},
     "output_type": "execute_result"
    }
   ],
   "source": [
    "df_main['modalidad_de_contratación'].unique()"
   ]
  },
  {
   "cell_type": "markdown",
   "id": "9d637738",
   "metadata": {},
   "source": [
    "###### Objeto_A_Contratar Column"
   ]
  },
  {
   "cell_type": "markdown",
   "id": "54973015",
   "metadata": {},
   "source": [
    "###### As this dataframe has many records, it is very complicated to observe one by one, so to give an answer to this basic Python exercise we will use lines of code to eliminate the symbols most likely to cause problems, if within the dataframes that we treat, we find specific symbols we can eliminate them directly using the following code; df_main['object_to_contract'] = df_main['object_to_contract']. str.replace('WEIRD SYMBOL', ' ', regex=True)"
   ]
  },
  {
   "cell_type": "code",
   "execution_count": 59,
   "id": "61174f2c",
   "metadata": {},
   "outputs": [
    {
     "data": {
      "text/plain": [
       "array(['REALIZAR LA PUBLICACIÓN DE EDICTOS EN UN DIARIO DE AMPLIA CIRCULACIÓN',\n",
       "       'PRESTAR LOS SERVICIOS  DE APOYO A LA GESTIÓN EN  LA PERSONERÍA DISTRITAL DE SANTIAGO DE CALI',\n",
       "       'PRESTAR LOS SERVICIOS PROFESIONALES S EN LA PERSONERIA DISTRITAL DE SANTIAGO DE CALI',\n",
       "       'PRESTAR LOS SERVICIOS DE APOYO A LA GESTION EN LA PERSONERIA DISTRITAL DE SANTIAGO DE CALI',\n",
       "       'PRESTAR LOS  SERVICIOS PROFESIONALES EN LA PERSONERIA DISTRITAL DE SANTIAGO DE CALI',\n",
       "       'PRESTAR LOS  SERVICIOS PROFESIONALES  EN LA PERSONERIA DISTRITAL DE SANTIAGO DE CALI',\n",
       "       'PRESTAR LOS SERVICIOS PROFESIONALES EN LA PERSONERIA DISTRITAL DE SANTIAGO DE CALI',\n",
       "       'PRESTAR LOS SERVICIOS  DE APOYO A LA GESTIÓN EN  LA PERSONERÍA DISTRITAL DE CALI',\n",
       "       'PRESTAR LOS SERVICIOS DE APOYO A LA GESTIÓN EN LA PERSONERÍA DISTRITAL DE CALI',\n",
       "       'PRESTAR LOS SERVICIOS PROFESIONALES ESPECIALIZADOS EN LA PERSONERIA DISTRITAL DE SANTIAGO DE CALI'],\n",
       "      dtype=object)"
      ]
     },
     "execution_count": 59,
     "metadata": {},
     "output_type": "execute_result"
    }
   ],
   "source": [
    "df_main['objeto_a_contratar'].unique()[:10]"
   ]
  },
  {
   "cell_type": "code",
   "execution_count": null,
   "id": "d4cd4b02",
   "metadata": {},
   "outputs": [],
   "source": [
    "df_main['objeto_a_contratar'] = df_main['objeto_a_contratar'].str.replace('\\n', ' ', regex=True)\n",
    "df_main['objeto_a_contratar'] = df_main['objeto_a_contratar'].str.upper()\n",
    "df_main['objeto_a_contratar'] = df_main['objeto_a_contratar'].str.replace(': ', ' ', regex=True)\n",
    "df_main['objeto_a_contratar'] = df_main['objeto_a_contratar'].str.replace(r'[^A-ZÁÉÍÓÚÑÜ0-9 .,;:()/-]', '', regex=True)"
   ]
  },
  {
   "cell_type": "code",
   "execution_count": 62,
   "id": "e3508150",
   "metadata": {},
   "outputs": [
    {
     "data": {
      "text/plain": [
       "array(['REALIZAR LA PUBLICACIÓN DE EDICTOS EN UN DIARIO DE AMPLIA CIRCULACIÓN',\n",
       "       'PRESTAR LOS SERVICIOS  DE APOYO A LA GESTIÓN EN  LA PERSONERÍA DISTRITAL DE SANTIAGO DE CALI',\n",
       "       'PRESTAR LOS SERVICIOS PROFESIONALES S EN LA PERSONERIA DISTRITAL DE SANTIAGO DE CALI',\n",
       "       'PRESTAR LOS SERVICIOS DE APOYO A LA GESTION EN LA PERSONERIA DISTRITAL DE SANTIAGO DE CALI',\n",
       "       'PRESTAR LOS  SERVICIOS PROFESIONALES EN LA PERSONERIA DISTRITAL DE SANTIAGO DE CALI',\n",
       "       'PRESTAR LOS  SERVICIOS PROFESIONALES  EN LA PERSONERIA DISTRITAL DE SANTIAGO DE CALI',\n",
       "       'PRESTAR LOS SERVICIOS PROFESIONALES EN LA PERSONERIA DISTRITAL DE SANTIAGO DE CALI',\n",
       "       'PRESTAR LOS SERVICIOS  DE APOYO A LA GESTIÓN EN  LA PERSONERÍA DISTRITAL DE CALI',\n",
       "       'PRESTAR LOS SERVICIOS DE APOYO A LA GESTIÓN EN LA PERSONERÍA DISTRITAL DE CALI',\n",
       "       'PRESTAR LOS SERVICIOS PROFESIONALES ESPECIALIZADOS EN LA PERSONERIA DISTRITAL DE SANTIAGO DE CALI'],\n",
       "      dtype=object)"
      ]
     },
     "execution_count": 62,
     "metadata": {},
     "output_type": "execute_result"
    }
   ],
   "source": [
    "df_main['objeto_a_contratar'].unique()[:10]"
   ]
  },
  {
   "cell_type": "markdown",
   "id": "54ced173",
   "metadata": {},
   "source": [
    "###### Objeto_Del_Proceso Column"
   ]
  },
  {
   "cell_type": "code",
   "execution_count": 63,
   "id": "3e8336dd",
   "metadata": {},
   "outputs": [
    {
     "data": {
      "text/plain": [
       "array(['REALIZAR LA PUBLICACIÓN DE EDICTOS EN UN DIARIO DE AMPLIA CIRCULACIÓN',\n",
       "       'PRESTAR LOS SERVICIOS  DE APOYO A LA GESTIÓN EN  LA PERSONERÍA DISTRITAL DE SANTIAGO DE CALI',\n",
       "       'PRESTAR LOS SERVICIOS PROFESIONALES S EN LA PERSONERIA DISTRITAL DE SANTIAGO DE CALI',\n",
       "       'PRESTAR LOS SERVICIOS DE APOYO A LA GESTION EN LA PERSONERIA DISTRITAL DE SANTIAGO DE CALI',\n",
       "       'PRESTAR LOS  SERVICIOS PROFESIONALES EN LA PERSONERIA DISTRITAL DE SANTIAGO DE CALI',\n",
       "       'PRESTAR LOS  SERVICIOS PROFESIONALES  EN LA PERSONERIA DISTRITAL DE SANTIAGO DE CALI',\n",
       "       'PRESTAR LOS SERVICIOS PROFESIONALES EN LA PERSONERIA DISTRITAL DE SANTIAGO DE CALI',\n",
       "       'PRESTAR LOS SERVICIOS  DE APOYO A LA GESTIÓN EN  LA PERSONERÍA DISTRITAL DE CALI',\n",
       "       'PRESTAR LOS SERVICIOS PROFESIONALES EN LA PERSONERIA DISTRITAL DE\\nSANTIAGO DE CALI',\n",
       "       'PRESTAR LOS SERVICIOS DE APOYO A LA GESTIÓN EN LA PERSONERÍA DISTRITAL DE CALI'],\n",
       "      dtype=object)"
      ]
     },
     "execution_count": 63,
     "metadata": {},
     "output_type": "execute_result"
    }
   ],
   "source": [
    "df_main['objeto_del_proceso'].unique()[:10]"
   ]
  },
  {
   "cell_type": "code",
   "execution_count": 64,
   "id": "9580e395",
   "metadata": {},
   "outputs": [],
   "source": [
    "df_main['objeto_del_proceso'] = df_main['objeto_del_proceso'].str.replace('\\n', ' ', regex=True)\n",
    "df_main['objeto_del_proceso'] = df_main['objeto_del_proceso'].str.upper()\n",
    "df_main['objeto_del_proceso'] = df_main['objeto_del_proceso'].str.replace(': ', ' ', regex=True)\n",
    "df_main['objeto_del_proceso'] = df_main['objeto_del_proceso'].str.replace(r'[^A-ZÁÉÍÓÚÑÜ0-9 .,;:()/-]', '', regex=True)"
   ]
  },
  {
   "cell_type": "code",
   "execution_count": 65,
   "id": "02a4aaae",
   "metadata": {},
   "outputs": [
    {
     "data": {
      "text/plain": [
       "array(['REALIZAR LA PUBLICACIÓN DE EDICTOS EN UN DIARIO DE AMPLIA CIRCULACIÓN',\n",
       "       'PRESTAR LOS SERVICIOS  DE APOYO A LA GESTIÓN EN  LA PERSONERÍA DISTRITAL DE SANTIAGO DE CALI',\n",
       "       'PRESTAR LOS SERVICIOS PROFESIONALES S EN LA PERSONERIA DISTRITAL DE SANTIAGO DE CALI',\n",
       "       'PRESTAR LOS SERVICIOS DE APOYO A LA GESTION EN LA PERSONERIA DISTRITAL DE SANTIAGO DE CALI',\n",
       "       'PRESTAR LOS  SERVICIOS PROFESIONALES EN LA PERSONERIA DISTRITAL DE SANTIAGO DE CALI',\n",
       "       'PRESTAR LOS  SERVICIOS PROFESIONALES  EN LA PERSONERIA DISTRITAL DE SANTIAGO DE CALI',\n",
       "       'PRESTAR LOS SERVICIOS PROFESIONALES EN LA PERSONERIA DISTRITAL DE SANTIAGO DE CALI',\n",
       "       'PRESTAR LOS SERVICIOS  DE APOYO A LA GESTIÓN EN  LA PERSONERÍA DISTRITAL DE CALI',\n",
       "       'PRESTAR LOS SERVICIOS DE APOYO A LA GESTIÓN EN LA PERSONERÍA DISTRITAL DE CALI',\n",
       "       'PRESTAR LOS SERVICIOS PROFESIONALES ESPECIALIZADOS EN LA PERSONERIA DISTRITAL DE SANTIAGO DE CALI'],\n",
       "      dtype=object)"
      ]
     },
     "execution_count": 65,
     "metadata": {},
     "output_type": "execute_result"
    }
   ],
   "source": [
    "df_main['objeto_del_proceso'].unique()[:10]"
   ]
  },
  {
   "cell_type": "markdown",
   "id": "5bb55b60",
   "metadata": {},
   "source": [
    "###### Tipo_De_Contrato column"
   ]
  },
  {
   "cell_type": "code",
   "execution_count": 66,
   "id": "d7552484",
   "metadata": {},
   "outputs": [
    {
     "data": {
      "text/plain": [
       "array(['Prestación de servicios', 'Suministros', 'Compraventa', 'Otro'],\n",
       "      dtype=object)"
      ]
     },
     "execution_count": 66,
     "metadata": {},
     "output_type": "execute_result"
    }
   ],
   "source": [
    "df_main['tipo_de_contrato'].unique()"
   ]
  },
  {
   "cell_type": "code",
   "execution_count": 67,
   "id": "806c4a23",
   "metadata": {},
   "outputs": [],
   "source": [
    "df_main['tipo_de_contrato'] = df_main['tipo_de_contrato'].replace(\"Prestación de servicios\", \"Prestación de Servicios\")"
   ]
  },
  {
   "cell_type": "code",
   "execution_count": 68,
   "id": "96ddfb2a",
   "metadata": {},
   "outputs": [
    {
     "data": {
      "text/plain": [
       "array(['Prestación de Servicios', 'Suministros', 'Compraventa', 'Otro'],\n",
       "      dtype=object)"
      ]
     },
     "execution_count": 68,
     "metadata": {},
     "output_type": "execute_result"
    }
   ],
   "source": [
    "df_main['tipo_de_contrato'].unique()"
   ]
  },
  {
   "cell_type": "markdown",
   "id": "d58df6d3",
   "metadata": {},
   "source": [
    "###### As an additional step we must work on the null values that we have in the dataframe, given the context of the data and the source, it is vital to understand if we can perform data filling processes, if we put it in real life situation, we could support the areas that own the data, this to scale the null values and that can be filled with the greatest possible veracity, if this is not feasible, the ideal is to understand what would be the most feasible factor to not have the nulls."
   ]
  },
  {
   "cell_type": "code",
   "execution_count": 69,
   "id": "9c7a83ee",
   "metadata": {},
   "outputs": [],
   "source": [
    "df_main.rename(columns={'fecha_fin_ejecuci_n': 'fecha_fin_ejecución'}, inplace=True)"
   ]
  },
  {
   "cell_type": "markdown",
   "id": "808cdd41",
   "metadata": {},
   "source": [
    "###### We have two columns with nulls fecha_de_firma_del_contrato and fecha_fin_ejecución, so undertstand the context, we can complete this fecha_fin_ejecución columns using \"Undetermined\", understanding that the end date is empty because the project still continues, however the other column does not have the same luck therefore for this practical example we will divide them in two, in one part we will fill these nulls with a value X, in the other we will use an example of sending an alert to a dummy mail simulating that we are sending the data to the responsible area so that this manages to fill them or to make the validations, what we want in complement of our function of moving data using ETLs, is to have an integrity in the data from the beginning to the end, as this exercise is basic, we will not send it."
   ]
  },
  {
   "cell_type": "code",
   "execution_count": 75,
   "id": "60e50a70",
   "metadata": {},
   "outputs": [],
   "source": [
    "df_main['fecha_fin_ejecución'] = df_main['fecha_fin_ejecución'].fillna('Undetermined')\n",
    "df_main['fecha_de_firma_del_contrato'] = df_main['fecha_de_firma_del_contrato'].fillna('En Revision')"
   ]
  },
  {
   "cell_type": "markdown",
   "id": "4fe77a06",
   "metadata": {},
   "source": [
    "###### As an additional step we will have to transform the dates to be compatible with the database engines."
   ]
  },
  {
   "cell_type": "markdown",
   "id": "dfb82537",
   "metadata": {},
   "source": [
    "Fechas cambiar"
   ]
  },
  {
   "cell_type": "markdown",
   "id": "55a7b941",
   "metadata": {},
   "source": [
    "\n",
    "\n",
    "Limpia los datos\n",
    "\n",
    "Transforma los datos\n",
    "\n",
    "Filtra los datos\n",
    "\n",
    "Muestra los resultados"
   ]
  },
  {
   "cell_type": "code",
   "execution_count": 17,
   "id": "6e0b54cb",
   "metadata": {},
   "outputs": [],
   "source": [
    "#Aplicar modelo SOLID - Eficiencia\n",
    "#Peso del File al final\n",
    "#Alerta por data incompleta\n",
    "#Estandarizar Names\n",
    "#Validacion Persona natural o "
   ]
  },
  {
   "cell_type": "code",
   "execution_count": 71,
   "id": "04ebab13",
   "metadata": {},
   "outputs": [
    {
     "data": {
      "text/html": [
       "<div>\n",
       "<style scoped>\n",
       "    .dataframe tbody tr th:only-of-type {\n",
       "        vertical-align: middle;\n",
       "    }\n",
       "\n",
       "    .dataframe tbody tr th {\n",
       "        vertical-align: top;\n",
       "    }\n",
       "\n",
       "    .dataframe thead th {\n",
       "        text-align: right;\n",
       "    }\n",
       "</style>\n",
       "<table border=\"1\" class=\"dataframe\">\n",
       "  <thead>\n",
       "    <tr style=\"text-align: right;\">\n",
       "      <th></th>\n",
       "      <th>nivel_entidad</th>\n",
       "      <th>codigo_entidad_en_secop</th>\n",
       "      <th>nombre_de_la_entidad</th>\n",
       "      <th>nit_de_la_entidad</th>\n",
       "      <th>departamento_entidad</th>\n",
       "      <th>municipio_entidad</th>\n",
       "      <th>estado_del_proceso</th>\n",
       "      <th>modalidad_de_contratación</th>\n",
       "      <th>objeto_a_contratar</th>\n",
       "      <th>objeto_del_proceso</th>\n",
       "      <th>tipo_de_contrato</th>\n",
       "      <th>fecha_de_firma_del_contrato</th>\n",
       "      <th>fecha_fin_ejecución</th>\n",
       "      <th>numero_del_contrato</th>\n",
       "      <th>numero_de_proceso</th>\n",
       "      <th>valor_contrato</th>\n",
       "      <th>nom_raz_social_contratista</th>\n",
       "      <th>url_contrato</th>\n",
       "      <th>origen</th>\n",
       "      <th>tipo_documento_proveedor</th>\n",
       "      <th>documento_proveedor</th>\n",
       "      <th>fecha_inicio_ejecuci_n</th>\n",
       "    </tr>\n",
       "  </thead>\n",
       "  <tbody>\n",
       "    <tr>\n",
       "      <th>0</th>\n",
       "      <td>Territorial</td>\n",
       "      <td>701511206</td>\n",
       "      <td>PERSONERIA DISTRITAL DE SANTIAGO DE CALI</td>\n",
       "      <td>805003895</td>\n",
       "      <td>Valle del Cauca</td>\n",
       "      <td>Cali</td>\n",
       "      <td>Activo</td>\n",
       "      <td>Mínima Cuantía</td>\n",
       "      <td>REALIZAR LA PUBLICACIÓN DE EDICTOS EN UN DIARIO DE AMPLIA CIRCULACIÓN</td>\n",
       "      <td>REALIZAR LA PUBLICACIÓN DE EDICTOS EN UN DIARIO DE AMPLIA CIRCULACIÓN</td>\n",
       "      <td>Prestación de Servicios</td>\n",
       "      <td>2025-03-11T00:00:00.000</td>\n",
       "      <td>2025-04-30T00:00:00.000</td>\n",
       "      <td>CO1.PCCNTR.7620665</td>\n",
       "      <td>131.7.1.2025.MC-154</td>\n",
       "      <td>800000</td>\n",
       "      <td>NUEVO DIARIO OCCIDENTE SAS</td>\n",
       "      <td>https://community.secop.gov.co/Public/Tendering/OpportunityDetail/Index?noticeUID=CO1.NTC.7686344&amp;isFromPublicArea=True&amp;isModal=true&amp;asPopupView=true</td>\n",
       "      <td>SECOPII</td>\n",
       "      <td>No Definido</td>\n",
       "      <td>805017188</td>\n",
       "      <td>NaN</td>\n",
       "    </tr>\n",
       "    <tr>\n",
       "      <th>1</th>\n",
       "      <td>Territorial</td>\n",
       "      <td>701511206</td>\n",
       "      <td>PERSONERIA DISTRITAL DE SANTIAGO DE CALI</td>\n",
       "      <td>805003895</td>\n",
       "      <td>Valle del Cauca</td>\n",
       "      <td>Cali</td>\n",
       "      <td>En Ejecución</td>\n",
       "      <td>No Definido</td>\n",
       "      <td>PRESTAR LOS SERVICIOS  DE APOYO A LA GESTIÓN EN  LA PERSONERÍA DISTRITAL DE SANTIAGO DE CALI</td>\n",
       "      <td>PRESTAR LOS SERVICIOS  DE APOYO A LA GESTIÓN EN  LA PERSONERÍA DISTRITAL DE SANTIAGO DE CALI</td>\n",
       "      <td>Prestación de Servicios</td>\n",
       "      <td>2025-03-11T00:00:00.000</td>\n",
       "      <td>2025-05-31T00:00:00.000</td>\n",
       "      <td>CO1.PCCNTR.7626699</td>\n",
       "      <td>131.7.1.2025.CD-161</td>\n",
       "      <td>7737000</td>\n",
       "      <td>Juan Carlos Martínez Bonilla</td>\n",
       "      <td>https://community.secop.gov.co/Public/Tendering/OpportunityDetail/Index?noticeUID=CO1.NTC.7801306&amp;isFromPublicArea=True&amp;isModal=true&amp;asPopupView=true</td>\n",
       "      <td>SECOPII</td>\n",
       "      <td>Cédula de Ciudadanía</td>\n",
       "      <td>1107529934</td>\n",
       "      <td>2025-03-12T00:00:00.000</td>\n",
       "    </tr>\n",
       "    <tr>\n",
       "      <th>2</th>\n",
       "      <td>Territorial</td>\n",
       "      <td>701511206</td>\n",
       "      <td>PERSONERIA DISTRITAL DE SANTIAGO DE CALI</td>\n",
       "      <td>805003895</td>\n",
       "      <td>Valle del Cauca</td>\n",
       "      <td>Cali</td>\n",
       "      <td>En Ejecución</td>\n",
       "      <td>Contratación Directa</td>\n",
       "      <td>PRESTAR LOS SERVICIOS PROFESIONALES S EN LA PERSONERIA DISTRITAL DE SANTIAGO DE CALI</td>\n",
       "      <td>PRESTAR LOS SERVICIOS PROFESIONALES S EN LA PERSONERIA DISTRITAL DE SANTIAGO DE CALI</td>\n",
       "      <td>Prestación de Servicios</td>\n",
       "      <td>2025-03-10T00:00:00.000</td>\n",
       "      <td>2025-05-31T00:00:00.000</td>\n",
       "      <td>CO1.PCCNTR.7626468</td>\n",
       "      <td>131.7.1.2025.CD-123</td>\n",
       "      <td>13314000</td>\n",
       "      <td>Harold Humberto Cairasco Calderón</td>\n",
       "      <td>https://community.secop.gov.co/Public/Tendering/OpportunityDetail/Index?noticeUID=CO1.NTC.7800588&amp;isFromPublicArea=True&amp;isModal=true&amp;asPopupView=true</td>\n",
       "      <td>SECOPII</td>\n",
       "      <td>Cédula de Ciudadanía</td>\n",
       "      <td>16804043</td>\n",
       "      <td>2025-03-11T00:00:00.000</td>\n",
       "    </tr>\n",
       "    <tr>\n",
       "      <th>3</th>\n",
       "      <td>Territorial</td>\n",
       "      <td>701511206</td>\n",
       "      <td>PERSONERIA DISTRITAL DE SANTIAGO DE CALI</td>\n",
       "      <td>805003895</td>\n",
       "      <td>Valle del Cauca</td>\n",
       "      <td>Cali</td>\n",
       "      <td>En Ejecución</td>\n",
       "      <td>Contratación Directa</td>\n",
       "      <td>PRESTAR LOS SERVICIOS DE APOYO A LA GESTION EN LA PERSONERIA DISTRITAL DE SANTIAGO DE CALI</td>\n",
       "      <td>PRESTAR LOS SERVICIOS DE APOYO A LA GESTION EN LA PERSONERIA DISTRITAL DE SANTIAGO DE CALI</td>\n",
       "      <td>Prestación de Servicios</td>\n",
       "      <td>2025-03-10T00:00:00.000</td>\n",
       "      <td>2025-05-31T00:00:00.000</td>\n",
       "      <td>CO1.PCCNTR.7626688</td>\n",
       "      <td>131.7.1.2025.CD-159</td>\n",
       "      <td>9840000</td>\n",
       "      <td>LEONARDO DELGADO LOPEZ</td>\n",
       "      <td>https://community.secop.gov.co/Public/Tendering/OpportunityDetail/Index?noticeUID=CO1.NTC.7801206&amp;isFromPublicArea=True&amp;isModal=true&amp;asPopupView=true</td>\n",
       "      <td>SECOPII</td>\n",
       "      <td>Cédula de Ciudadanía</td>\n",
       "      <td>94060109</td>\n",
       "      <td>2025-03-11T00:00:00.000</td>\n",
       "    </tr>\n",
       "    <tr>\n",
       "      <th>4</th>\n",
       "      <td>Territorial</td>\n",
       "      <td>701511206</td>\n",
       "      <td>PERSONERIA DISTRITAL DE SANTIAGO DE CALI</td>\n",
       "      <td>805003895</td>\n",
       "      <td>Valle del Cauca</td>\n",
       "      <td>Cali</td>\n",
       "      <td>En Ejecución</td>\n",
       "      <td>Contratación Directa</td>\n",
       "      <td>PRESTAR LOS  SERVICIOS PROFESIONALES EN LA PERSONERIA DISTRITAL DE SANTIAGO DE CALI</td>\n",
       "      <td>PRESTAR LOS  SERVICIOS PROFESIONALES EN LA PERSONERIA DISTRITAL DE SANTIAGO DE CALI</td>\n",
       "      <td>Prestación de Servicios</td>\n",
       "      <td>2025-03-11T00:00:00.000</td>\n",
       "      <td>2025-05-31T00:00:00.000</td>\n",
       "      <td>CO1.PCCNTR.7627306</td>\n",
       "      <td>131.7.1.2025.CD-162</td>\n",
       "      <td>15693000</td>\n",
       "      <td>Jaime Portocarrero Banguera</td>\n",
       "      <td>https://community.secop.gov.co/Public/Tendering/OpportunityDetail/Index?noticeUID=CO1.NTC.7801164&amp;isFromPublicArea=True&amp;isModal=true&amp;asPopupView=true</td>\n",
       "      <td>SECOPII</td>\n",
       "      <td>Cédula de Ciudadanía</td>\n",
       "      <td>10386217</td>\n",
       "      <td>2025-03-12T00:00:00.000</td>\n",
       "    </tr>\n",
       "  </tbody>\n",
       "</table>\n",
       "</div>"
      ],
      "text/plain": [
       "  nivel_entidad  codigo_entidad_en_secop  \\\n",
       "0   Territorial                701511206   \n",
       "1   Territorial                701511206   \n",
       "2   Territorial                701511206   \n",
       "3   Territorial                701511206   \n",
       "4   Territorial                701511206   \n",
       "\n",
       "                       nombre_de_la_entidad  nit_de_la_entidad  \\\n",
       "0  PERSONERIA DISTRITAL DE SANTIAGO DE CALI          805003895   \n",
       "1  PERSONERIA DISTRITAL DE SANTIAGO DE CALI          805003895   \n",
       "2  PERSONERIA DISTRITAL DE SANTIAGO DE CALI          805003895   \n",
       "3  PERSONERIA DISTRITAL DE SANTIAGO DE CALI          805003895   \n",
       "4  PERSONERIA DISTRITAL DE SANTIAGO DE CALI          805003895   \n",
       "\n",
       "  departamento_entidad municipio_entidad estado_del_proceso  \\\n",
       "0      Valle del Cauca              Cali             Activo   \n",
       "1      Valle del Cauca              Cali       En Ejecución   \n",
       "2      Valle del Cauca              Cali       En Ejecución   \n",
       "3      Valle del Cauca              Cali       En Ejecución   \n",
       "4      Valle del Cauca              Cali       En Ejecución   \n",
       "\n",
       "  modalidad_de_contratación  \\\n",
       "0            Mínima Cuantía   \n",
       "1               No Definido   \n",
       "2      Contratación Directa   \n",
       "3      Contratación Directa   \n",
       "4      Contratación Directa   \n",
       "\n",
       "                                                                             objeto_a_contratar  \\\n",
       "0                         REALIZAR LA PUBLICACIÓN DE EDICTOS EN UN DIARIO DE AMPLIA CIRCULACIÓN   \n",
       "1  PRESTAR LOS SERVICIOS  DE APOYO A LA GESTIÓN EN  LA PERSONERÍA DISTRITAL DE SANTIAGO DE CALI   \n",
       "2          PRESTAR LOS SERVICIOS PROFESIONALES S EN LA PERSONERIA DISTRITAL DE SANTIAGO DE CALI   \n",
       "3    PRESTAR LOS SERVICIOS DE APOYO A LA GESTION EN LA PERSONERIA DISTRITAL DE SANTIAGO DE CALI   \n",
       "4           PRESTAR LOS  SERVICIOS PROFESIONALES EN LA PERSONERIA DISTRITAL DE SANTIAGO DE CALI   \n",
       "\n",
       "                                                                             objeto_del_proceso  \\\n",
       "0                         REALIZAR LA PUBLICACIÓN DE EDICTOS EN UN DIARIO DE AMPLIA CIRCULACIÓN   \n",
       "1  PRESTAR LOS SERVICIOS  DE APOYO A LA GESTIÓN EN  LA PERSONERÍA DISTRITAL DE SANTIAGO DE CALI   \n",
       "2          PRESTAR LOS SERVICIOS PROFESIONALES S EN LA PERSONERIA DISTRITAL DE SANTIAGO DE CALI   \n",
       "3    PRESTAR LOS SERVICIOS DE APOYO A LA GESTION EN LA PERSONERIA DISTRITAL DE SANTIAGO DE CALI   \n",
       "4           PRESTAR LOS  SERVICIOS PROFESIONALES EN LA PERSONERIA DISTRITAL DE SANTIAGO DE CALI   \n",
       "\n",
       "          tipo_de_contrato fecha_de_firma_del_contrato  \\\n",
       "0  Prestación de Servicios     2025-03-11T00:00:00.000   \n",
       "1  Prestación de Servicios     2025-03-11T00:00:00.000   \n",
       "2  Prestación de Servicios     2025-03-10T00:00:00.000   \n",
       "3  Prestación de Servicios     2025-03-10T00:00:00.000   \n",
       "4  Prestación de Servicios     2025-03-11T00:00:00.000   \n",
       "\n",
       "       fecha_fin_ejecución numero_del_contrato    numero_de_proceso  \\\n",
       "0  2025-04-30T00:00:00.000  CO1.PCCNTR.7620665  131.7.1.2025.MC-154   \n",
       "1  2025-05-31T00:00:00.000  CO1.PCCNTR.7626699  131.7.1.2025.CD-161   \n",
       "2  2025-05-31T00:00:00.000  CO1.PCCNTR.7626468  131.7.1.2025.CD-123   \n",
       "3  2025-05-31T00:00:00.000  CO1.PCCNTR.7626688  131.7.1.2025.CD-159   \n",
       "4  2025-05-31T00:00:00.000  CO1.PCCNTR.7627306  131.7.1.2025.CD-162   \n",
       "\n",
       "   valor_contrato         nom_raz_social_contratista  \\\n",
       "0          800000         NUEVO DIARIO OCCIDENTE SAS   \n",
       "1         7737000       Juan Carlos Martínez Bonilla   \n",
       "2        13314000  Harold Humberto Cairasco Calderón   \n",
       "3         9840000             LEONARDO DELGADO LOPEZ   \n",
       "4        15693000        Jaime Portocarrero Banguera   \n",
       "\n",
       "                                                                                                                                            url_contrato  \\\n",
       "0  https://community.secop.gov.co/Public/Tendering/OpportunityDetail/Index?noticeUID=CO1.NTC.7686344&isFromPublicArea=True&isModal=true&asPopupView=true   \n",
       "1  https://community.secop.gov.co/Public/Tendering/OpportunityDetail/Index?noticeUID=CO1.NTC.7801306&isFromPublicArea=True&isModal=true&asPopupView=true   \n",
       "2  https://community.secop.gov.co/Public/Tendering/OpportunityDetail/Index?noticeUID=CO1.NTC.7800588&isFromPublicArea=True&isModal=true&asPopupView=true   \n",
       "3  https://community.secop.gov.co/Public/Tendering/OpportunityDetail/Index?noticeUID=CO1.NTC.7801206&isFromPublicArea=True&isModal=true&asPopupView=true   \n",
       "4  https://community.secop.gov.co/Public/Tendering/OpportunityDetail/Index?noticeUID=CO1.NTC.7801164&isFromPublicArea=True&isModal=true&asPopupView=true   \n",
       "\n",
       "    origen tipo_documento_proveedor documento_proveedor  \\\n",
       "0  SECOPII              No Definido           805017188   \n",
       "1  SECOPII     Cédula de Ciudadanía          1107529934   \n",
       "2  SECOPII     Cédula de Ciudadanía            16804043   \n",
       "3  SECOPII     Cédula de Ciudadanía            94060109   \n",
       "4  SECOPII     Cédula de Ciudadanía            10386217   \n",
       "\n",
       "    fecha_inicio_ejecuci_n  \n",
       "0                      NaN  \n",
       "1  2025-03-12T00:00:00.000  \n",
       "2  2025-03-11T00:00:00.000  \n",
       "3  2025-03-11T00:00:00.000  \n",
       "4  2025-03-12T00:00:00.000  "
      ]
     },
     "execution_count": 71,
     "metadata": {},
     "output_type": "execute_result"
    }
   ],
   "source": [
    "df_main.head()"
   ]
  }
 ],
 "metadata": {
  "kernelspec": {
   "display_name": "Python 3",
   "language": "python",
   "name": "python3"
  },
  "language_info": {
   "codemirror_mode": {
    "name": "ipython",
    "version": 3
   },
   "file_extension": ".py",
   "mimetype": "text/x-python",
   "name": "python",
   "nbconvert_exporter": "python",
   "pygments_lexer": "ipython3",
   "version": "3.10.5"
  }
 },
 "nbformat": 4,
 "nbformat_minor": 5
}
