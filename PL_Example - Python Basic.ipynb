{
 "cells": [
  {
   "cell_type": "markdown",
   "id": "29fbfecf",
   "metadata": {},
   "source": [
    "### Pipeline - Python Basic"
   ]
  },
  {
   "cell_type": "markdown",
   "id": "1634e6b8",
   "metadata": {},
   "source": [
    "#### Preparation previus tools"
   ]
  },
  {
   "cell_type": "code",
   "execution_count": 74,
   "id": "3e023904",
   "metadata": {},
   "outputs": [],
   "source": [
    "#Loading Libraries\n",
    "import pandas as pd\n",
    "import numpy as np\n",
    "import openpyxl\n",
    "import smtplib"
   ]
  },
  {
   "cell_type": "markdown",
   "id": "fb8434b7",
   "metadata": {},
   "source": [
    "###### This code´s help us to liberate all visual limits when you process the dataset"
   ]
  },
  {
   "cell_type": "code",
   "execution_count": 49,
   "id": "8360481c",
   "metadata": {},
   "outputs": [],
   "source": [
    "pd.set_option('display.max_rows', None)\n",
    "pd.set_option('display.max_columns', None)\n",
    "pd.set_option('display.max_colwidth', None)\n",
    "np.set_printoptions(threshold=np.inf)"
   ]
  },
  {
   "cell_type": "markdown",
   "id": "9dedc1e4",
   "metadata": {},
   "source": [
    "#### Uploading Dataset"
   ]
  },
  {
   "cell_type": "code",
   "execution_count": 13,
   "id": "6718d6dc",
   "metadata": {},
   "outputs": [],
   "source": [
    "# Upload Dataset\n",
    "\n",
    "url = \"https://www.datos.gov.co/resource/w8tr-p8mr.json?$limit=5000\"\n",
    "df_main = pd.read_json(url)"
   ]
  },
  {
   "cell_type": "markdown",
   "id": "26cd6830",
   "metadata": {},
   "source": [
    "###### Summary - Information on Electronic Contracts for SECOP I and II of the District Attorney's Office of Santiago de Cali"
   ]
  },
  {
   "cell_type": "markdown",
   "id": "c571bd1c",
   "metadata": {},
   "source": [
    "###### I want to work on real dataframes, those that we will really evidence in our day to day, for this I rely on the free database of the Colombian government, many of these data are fed from surveys or questionnaires, where there are no standards for the possible answers that can be given, for example for the name, we find values in lowercase and uppercase, so they are ideal to apply as many tools as possible."
   ]
  },
  {
   "cell_type": "markdown",
   "id": "d0f8be1f",
   "metadata": {},
   "source": [
    "###### Something important that we must have clear before starting to work on a dataset is its structure and its unit, all the measures or calculations that we do, must have results and it is of vital importance to know in what is expressed, if they are X amount of some product, for this specific case, for our DF the unit is CONTRACTS."
   ]
  },
  {
   "cell_type": "markdown",
   "id": "43e4d118",
   "metadata": {},
   "source": [
    "###### Unit: Contracts"
   ]
  },
  {
   "cell_type": "markdown",
   "id": "24a998ac",
   "metadata": {},
   "source": [
    "#### Getting to Know the Dataset"
   ]
  },
  {
   "cell_type": "markdown",
   "id": "b890be82",
   "metadata": {},
   "source": [
    "###### An important part before starting any pipeline is to understand the structure, form and content of the data with which we are going to deal, this to give us a glimpse of what we can find, in addition to begin to rule out errors that may affect us in the movement of information."
   ]
  },
  {
   "cell_type": "code",
   "execution_count": 19,
   "id": "169314dc",
   "metadata": {},
   "outputs": [
    {
     "data": {
      "text/plain": [
       "Index(['nivel_entidad', 'codigo_entidad_en_secop', 'nombre_de_la_entidad',\n",
       "       'nit_de_la_entidad', 'departamento_entidad', 'municipio_entidad',\n",
       "       'estado_del_proceso', 'modalidad_de_contrataci_n', 'objeto_a_contratar',\n",
       "       'objeto_del_proceso', 'tipo_de_contrato', 'fecha_de_firma_del_contrato',\n",
       "       'fecha_fin_ejecuci_n', 'numero_del_contrato', 'numero_de_proceso',\n",
       "       'valor_contrato', 'nom_raz_social_contratista', 'url_contrato',\n",
       "       'origen', 'tipo_documento_proveedor', 'documento_proveedor',\n",
       "       'fecha_inicio_ejecuci_n'],\n",
       "      dtype='object')"
      ]
     },
     "execution_count": 19,
     "metadata": {},
     "output_type": "execute_result"
    }
   ],
   "source": [
    "df_main.columns"
   ]
  },
  {
   "cell_type": "markdown",
   "id": "6ad58b5e",
   "metadata": {},
   "source": [
    "###### The first error, that I can find is the name of the last columns, in the Data movement, this can suffer changes by the conditions in each tool, in this dataframe the name suffered a change in its name because in the O it had a tilde, some databases do not know these symbols and change this for another in this case change Ó for _."
   ]
  },
  {
   "cell_type": "code",
   "execution_count": 20,
   "id": "e29a4c5a",
   "metadata": {},
   "outputs": [
    {
     "data": {
      "text/plain": [
       "(1941, 22)"
      ]
     },
     "execution_count": 20,
     "metadata": {},
     "output_type": "execute_result"
    }
   ],
   "source": [
    "df_main.shape"
   ]
  },
  {
   "cell_type": "markdown",
   "id": "1fcc5de6",
   "metadata": {},
   "source": [
    "###### We have to have clarity in the totality of the data because all the data that we have in the input, must appear in the output, regardless of the transformations and leaving aside if we have to make filters.\n",
    "###### So, our dataframe have a 1941 registers and 22 columns."
   ]
  },
  {
   "cell_type": "markdown",
   "id": "f14a8ce0",
   "metadata": {},
   "source": [
    "###### Tip: Always leave the main dataframe as a separate dataset, if you make changes, do it in the other dataframes created from the main dataframe, never use directly the main dataframe, because if you have an error, you must load again and in some cases this process is very difficult and slow."
   ]
  },
  {
   "cell_type": "markdown",
   "id": "2a8ef481",
   "metadata": {},
   "source": [
    "###### This is a very important step, because here we can know and standardize the dataset.\n",
    "###### "
   ]
  },
  {
   "cell_type": "markdown",
   "id": "cc023f78",
   "metadata": {},
   "source": [
    "##### Firts Step: Getting to Know our columns"
   ]
  },
  {
   "cell_type": "markdown",
   "id": "6ce5b52e",
   "metadata": {},
   "source": [
    "###### In this step, we will getting to know our columns, every one, his values and we can star the standardize process, so we going to consult every column and his unique values"
   ]
  },
  {
   "cell_type": "markdown",
   "id": "12bf2861",
   "metadata": {},
   "source": [
    "###### Unique Values"
   ]
  },
  {
   "cell_type": "code",
   "execution_count": 30,
   "id": "11318d9c",
   "metadata": {},
   "outputs": [
    {
     "data": {
      "text/plain": [
       "nivel_entidad                     1\n",
       "codigo_entidad_en_secop           1\n",
       "nombre_de_la_entidad              1\n",
       "nit_de_la_entidad                 1\n",
       "departamento_entidad              1\n",
       "municipio_entidad                 1\n",
       "estado_del_proceso                9\n",
       "modalidad_de_contrataci_n         8\n",
       "objeto_a_contratar             1059\n",
       "objeto_del_proceso             1057\n",
       "tipo_de_contrato                  4\n",
       "fecha_de_firma_del_contrato     332\n",
       "fecha_fin_ejecuci_n              52\n",
       "numero_del_contrato            1840\n",
       "numero_de_proceso              1812\n",
       "valor_contrato                  373\n",
       "nom_raz_social_contratista      601\n",
       "url_contrato                   1807\n",
       "origen                            1\n",
       "tipo_documento_proveedor          4\n",
       "documento_proveedor             601\n",
       "fecha_inicio_ejecuci_n          327\n",
       "dtype: int64"
      ]
     },
     "execution_count": 30,
     "metadata": {},
     "output_type": "execute_result"
    }
   ],
   "source": [
    "df_main.nunique()"
   ]
  },
  {
   "cell_type": "markdown",
   "id": "5e0d731b",
   "metadata": {},
   "source": [
    "###### Null Values"
   ]
  },
  {
   "cell_type": "code",
   "execution_count": 33,
   "id": "77356c3d",
   "metadata": {},
   "outputs": [
    {
     "data": {
      "text/plain": [
       "nivel_entidad                    0\n",
       "codigo_entidad_en_secop          0\n",
       "nombre_de_la_entidad             0\n",
       "nit_de_la_entidad                0\n",
       "departamento_entidad             0\n",
       "municipio_entidad                0\n",
       "estado_del_proceso               0\n",
       "modalidad_de_contrataci_n        0\n",
       "objeto_a_contratar               0\n",
       "objeto_del_proceso               0\n",
       "tipo_de_contrato                 0\n",
       "fecha_de_firma_del_contrato     96\n",
       "fecha_fin_ejecuci_n              4\n",
       "numero_del_contrato              0\n",
       "numero_de_proceso                0\n",
       "valor_contrato                   0\n",
       "nom_raz_social_contratista       0\n",
       "url_contrato                     0\n",
       "origen                           0\n",
       "tipo_documento_proveedor         0\n",
       "documento_proveedor              0\n",
       "fecha_inicio_ejecuci_n         136\n",
       "dtype: int64"
      ]
     },
     "execution_count": 33,
     "metadata": {},
     "output_type": "execute_result"
    }
   ],
   "source": [
    "df_main.isnull().sum()"
   ]
  },
  {
   "cell_type": "markdown",
   "id": "9209a4f0",
   "metadata": {},
   "source": [
    "###### If you want view every value for columns, you can use this line df_main.apply(lambda x: x.unique()), but in this case in some columns you have a lot values, more 1000 registers, and this code, it will saturate the visual with all the values, so it is better to check the unique values of each column in numbers and then check one by one, the ones we think are important to validate."
   ]
  },
  {
   "cell_type": "markdown",
   "id": "199dbdac",
   "metadata": {},
   "source": [
    "#### Cleaning and Transform Dataset"
   ]
  },
  {
   "cell_type": "markdown",
   "id": "fd6392c1",
   "metadata": {},
   "source": [
    "###### We will start with the identify the corrupt values on every column and solve that, if need."
   ]
  },
  {
   "cell_type": "markdown",
   "id": "246e8927",
   "metadata": {},
   "source": [
    "###### Estado_Del_Proceso Column"
   ]
  },
  {
   "cell_type": "code",
   "execution_count": 35,
   "id": "d89a1683",
   "metadata": {},
   "outputs": [
    {
     "data": {
      "text/plain": [
       "array(['Activo', 'En ejecución', 'terminado', 'Modificado', 'Suspendido',\n",
       "       'Cerrado', 'Borrador', 'Cancelado', 'enviado Proveedor'],\n",
       "      dtype=object)"
      ]
     },
     "execution_count": 35,
     "metadata": {},
     "output_type": "execute_result"
    }
   ],
   "source": [
    "df_main['estado_del_proceso'].unique()"
   ]
  },
  {
   "cell_type": "code",
   "execution_count": 36,
   "id": "e6d06cea",
   "metadata": {},
   "outputs": [],
   "source": [
    "df_main['estado_del_proceso'] = df_main['estado_del_proceso'].replace(\"En ejecución\", \"En Ejecución\")\n",
    "df_main['estado_del_proceso'] = df_main['estado_del_proceso'].replace(\"terminado\", \"Terminado\")\n",
    "df_main['estado_del_proceso'] = df_main['estado_del_proceso'].replace(\"enviado Proveedor\", \"Enviado a Proveedor\")"
   ]
  },
  {
   "cell_type": "code",
   "execution_count": 37,
   "id": "b68200c0",
   "metadata": {},
   "outputs": [
    {
     "data": {
      "text/plain": [
       "array(['Activo', 'En Ejecución', 'Terminado', 'Modificado', 'Suspendido',\n",
       "       'Cerrado', 'Borrador', 'Cancelado', 'Enviado a Proveedor'],\n",
       "      dtype=object)"
      ]
     },
     "execution_count": 37,
     "metadata": {},
     "output_type": "execute_result"
    }
   ],
   "source": [
    "df_main['estado_del_proceso'].unique()"
   ]
  },
  {
   "cell_type": "markdown",
   "id": "28f3d856",
   "metadata": {},
   "source": [
    "###### Modalidad_De_Contrataci_n Column"
   ]
  },
  {
   "cell_type": "code",
   "execution_count": 39,
   "id": "bb8f4cfe",
   "metadata": {},
   "outputs": [],
   "source": [
    "df_main.rename(columns={'modalidad_de_contrataci_n': 'modalidad_de_contratación'}, inplace=True)"
   ]
  },
  {
   "cell_type": "code",
   "execution_count": 40,
   "id": "b5551905",
   "metadata": {},
   "outputs": [
    {
     "data": {
      "text/plain": [
       "array(['Mínima cuantía', 'No Definido', 'Contratación directa',\n",
       "       'Selección Abreviada de Menor Cuantía',\n",
       "       'Contratación Directa (con ofertas)',\n",
       "       'Selección abreviada subasta inversa', 'Licitación pública',\n",
       "       'Seleccion Abreviada Menor Cuantia Sin Manifestacion Interes'],\n",
       "      dtype=object)"
      ]
     },
     "execution_count": 40,
     "metadata": {},
     "output_type": "execute_result"
    }
   ],
   "source": [
    "df_main['modalidad_de_contratación'].unique()"
   ]
  },
  {
   "cell_type": "code",
   "execution_count": null,
   "id": "6ecc00cf",
   "metadata": {},
   "outputs": [],
   "source": [
    "df_main['modalidad_de_contratación'] = df_main['modalidad_de_contratación'].replace(\"Mínima cuantía\", \"Mínima Cuantía\")\n",
    "df_main['modalidad_de_contratación'] = df_main['modalidad_de_contratación'].replace(\"Contratación directa\", \"Contratación Directa\")\n",
    "df_main['modalidad_de_contratación'] = df_main['modalidad_de_contratación'].replace(\"Contratación Directa (con ofertas)\", \"Contratación Directa\")\n",
    "df_main['modalidad_de_contratación'] = df_main['modalidad_de_contratación'].replace(\"Selección abreviada subasta inversa\", \"Selección Abreviada Subasta Inversa\")\n",
    "df_main['modalidad_de_contratación'] = df_main['modalidad_de_contratación'].replace(\"Licitación pública\", \"Licitación Pública\")\n",
    "df_main['modalidad_de_contratación'] = df_main['modalidad_de_contratación'].replace(\"Seleccion Abreviada Menor Cuantia Sin Manifestacion Interes\", \"Seleccion Abreviada Menor Cuantía Sin Manifestacion Interes\")"
   ]
  },
  {
   "cell_type": "code",
   "execution_count": 44,
   "id": "65112482",
   "metadata": {},
   "outputs": [
    {
     "data": {
      "text/plain": [
       "array(['Mínima Cuantía', 'No Definido', 'Contratación Directa',\n",
       "       'Selección Abreviada de Menor Cuantía',\n",
       "       'Selección Abreviada Subasta Inversa', 'Licitación Pública',\n",
       "       'Seleccion Abreviada Menor Cuantía Sin Manifestacion Interes'],\n",
       "      dtype=object)"
      ]
     },
     "execution_count": 44,
     "metadata": {},
     "output_type": "execute_result"
    }
   ],
   "source": [
    "df_main['modalidad_de_contratación'].unique()"
   ]
  },
  {
   "cell_type": "markdown",
   "id": "9d637738",
   "metadata": {},
   "source": [
    "###### Objeto_A_Contratar Column"
   ]
  },
  {
   "cell_type": "markdown",
   "id": "54973015",
   "metadata": {},
   "source": [
    "###### As this dataframe has many records, it is very complicated to observe one by one, so to give an answer to this basic Python exercise we will use lines of code to eliminate the symbols most likely to cause problems, if within the dataframes that we treat, we find specific symbols we can eliminate them directly using the following code; df_main['object_to_contract'] = df_main['object_to_contract']. str.replace('WEIRD SYMBOL', ' ', regex=True)"
   ]
  },
  {
   "cell_type": "code",
   "execution_count": 59,
   "id": "61174f2c",
   "metadata": {},
   "outputs": [
    {
     "data": {
      "text/plain": [
       "array(['REALIZAR LA PUBLICACIÓN DE EDICTOS EN UN DIARIO DE AMPLIA CIRCULACIÓN',\n",
       "       'PRESTAR LOS SERVICIOS  DE APOYO A LA GESTIÓN EN  LA PERSONERÍA DISTRITAL DE SANTIAGO DE CALI',\n",
       "       'PRESTAR LOS SERVICIOS PROFESIONALES S EN LA PERSONERIA DISTRITAL DE SANTIAGO DE CALI',\n",
       "       'PRESTAR LOS SERVICIOS DE APOYO A LA GESTION EN LA PERSONERIA DISTRITAL DE SANTIAGO DE CALI',\n",
       "       'PRESTAR LOS  SERVICIOS PROFESIONALES EN LA PERSONERIA DISTRITAL DE SANTIAGO DE CALI',\n",
       "       'PRESTAR LOS  SERVICIOS PROFESIONALES  EN LA PERSONERIA DISTRITAL DE SANTIAGO DE CALI',\n",
       "       'PRESTAR LOS SERVICIOS PROFESIONALES EN LA PERSONERIA DISTRITAL DE SANTIAGO DE CALI',\n",
       "       'PRESTAR LOS SERVICIOS  DE APOYO A LA GESTIÓN EN  LA PERSONERÍA DISTRITAL DE CALI',\n",
       "       'PRESTAR LOS SERVICIOS DE APOYO A LA GESTIÓN EN LA PERSONERÍA DISTRITAL DE CALI',\n",
       "       'PRESTAR LOS SERVICIOS PROFESIONALES ESPECIALIZADOS EN LA PERSONERIA DISTRITAL DE SANTIAGO DE CALI'],\n",
       "      dtype=object)"
      ]
     },
     "execution_count": 59,
     "metadata": {},
     "output_type": "execute_result"
    }
   ],
   "source": [
    "df_main['objeto_a_contratar'].unique()[:10]"
   ]
  },
  {
   "cell_type": "code",
   "execution_count": null,
   "id": "d4cd4b02",
   "metadata": {},
   "outputs": [],
   "source": [
    "df_main['objeto_a_contratar'] = df_main['objeto_a_contratar'].str.replace('\\n', ' ', regex=True)\n",
    "df_main['objeto_a_contratar'] = df_main['objeto_a_contratar'].str.upper()\n",
    "df_main['objeto_a_contratar'] = df_main['objeto_a_contratar'].str.replace(': ', ' ', regex=True)\n",
    "df_main['objeto_a_contratar'] = df_main['objeto_a_contratar'].str.replace(r'[^A-ZÁÉÍÓÚÑÜ0-9 .,;:()/-]', '', regex=True)"
   ]
  },
  {
   "cell_type": "code",
   "execution_count": 62,
   "id": "e3508150",
   "metadata": {},
   "outputs": [
    {
     "data": {
      "text/plain": [
       "array(['REALIZAR LA PUBLICACIÓN DE EDICTOS EN UN DIARIO DE AMPLIA CIRCULACIÓN',\n",
       "       'PRESTAR LOS SERVICIOS  DE APOYO A LA GESTIÓN EN  LA PERSONERÍA DISTRITAL DE SANTIAGO DE CALI',\n",
       "       'PRESTAR LOS SERVICIOS PROFESIONALES S EN LA PERSONERIA DISTRITAL DE SANTIAGO DE CALI',\n",
       "       'PRESTAR LOS SERVICIOS DE APOYO A LA GESTION EN LA PERSONERIA DISTRITAL DE SANTIAGO DE CALI',\n",
       "       'PRESTAR LOS  SERVICIOS PROFESIONALES EN LA PERSONERIA DISTRITAL DE SANTIAGO DE CALI',\n",
       "       'PRESTAR LOS  SERVICIOS PROFESIONALES  EN LA PERSONERIA DISTRITAL DE SANTIAGO DE CALI',\n",
       "       'PRESTAR LOS SERVICIOS PROFESIONALES EN LA PERSONERIA DISTRITAL DE SANTIAGO DE CALI',\n",
       "       'PRESTAR LOS SERVICIOS  DE APOYO A LA GESTIÓN EN  LA PERSONERÍA DISTRITAL DE CALI',\n",
       "       'PRESTAR LOS SERVICIOS DE APOYO A LA GESTIÓN EN LA PERSONERÍA DISTRITAL DE CALI',\n",
       "       'PRESTAR LOS SERVICIOS PROFESIONALES ESPECIALIZADOS EN LA PERSONERIA DISTRITAL DE SANTIAGO DE CALI'],\n",
       "      dtype=object)"
      ]
     },
     "execution_count": 62,
     "metadata": {},
     "output_type": "execute_result"
    }
   ],
   "source": [
    "df_main['objeto_a_contratar'].unique()[:10]"
   ]
  },
  {
   "cell_type": "markdown",
   "id": "54ced173",
   "metadata": {},
   "source": [
    "###### Objeto_Del_Proceso Column"
   ]
  },
  {
   "cell_type": "code",
   "execution_count": 63,
   "id": "3e8336dd",
   "metadata": {},
   "outputs": [
    {
     "data": {
      "text/plain": [
       "array(['REALIZAR LA PUBLICACIÓN DE EDICTOS EN UN DIARIO DE AMPLIA CIRCULACIÓN',\n",
       "       'PRESTAR LOS SERVICIOS  DE APOYO A LA GESTIÓN EN  LA PERSONERÍA DISTRITAL DE SANTIAGO DE CALI',\n",
       "       'PRESTAR LOS SERVICIOS PROFESIONALES S EN LA PERSONERIA DISTRITAL DE SANTIAGO DE CALI',\n",
       "       'PRESTAR LOS SERVICIOS DE APOYO A LA GESTION EN LA PERSONERIA DISTRITAL DE SANTIAGO DE CALI',\n",
       "       'PRESTAR LOS  SERVICIOS PROFESIONALES EN LA PERSONERIA DISTRITAL DE SANTIAGO DE CALI',\n",
       "       'PRESTAR LOS  SERVICIOS PROFESIONALES  EN LA PERSONERIA DISTRITAL DE SANTIAGO DE CALI',\n",
       "       'PRESTAR LOS SERVICIOS PROFESIONALES EN LA PERSONERIA DISTRITAL DE SANTIAGO DE CALI',\n",
       "       'PRESTAR LOS SERVICIOS  DE APOYO A LA GESTIÓN EN  LA PERSONERÍA DISTRITAL DE CALI',\n",
       "       'PRESTAR LOS SERVICIOS PROFESIONALES EN LA PERSONERIA DISTRITAL DE\\nSANTIAGO DE CALI',\n",
       "       'PRESTAR LOS SERVICIOS DE APOYO A LA GESTIÓN EN LA PERSONERÍA DISTRITAL DE CALI'],\n",
       "      dtype=object)"
      ]
     },
     "execution_count": 63,
     "metadata": {},
     "output_type": "execute_result"
    }
   ],
   "source": [
    "df_main['objeto_del_proceso'].unique()[:10]"
   ]
  },
  {
   "cell_type": "code",
   "execution_count": 64,
   "id": "9580e395",
   "metadata": {},
   "outputs": [],
   "source": [
    "df_main['objeto_del_proceso'] = df_main['objeto_del_proceso'].str.replace('\\n', ' ', regex=True)\n",
    "df_main['objeto_del_proceso'] = df_main['objeto_del_proceso'].str.upper()\n",
    "df_main['objeto_del_proceso'] = df_main['objeto_del_proceso'].str.replace(': ', ' ', regex=True)\n",
    "df_main['objeto_del_proceso'] = df_main['objeto_del_proceso'].str.replace(r'[^A-ZÁÉÍÓÚÑÜ0-9 .,;:()/-]', '', regex=True)"
   ]
  },
  {
   "cell_type": "code",
   "execution_count": 65,
   "id": "02a4aaae",
   "metadata": {},
   "outputs": [
    {
     "data": {
      "text/plain": [
       "array(['REALIZAR LA PUBLICACIÓN DE EDICTOS EN UN DIARIO DE AMPLIA CIRCULACIÓN',\n",
       "       'PRESTAR LOS SERVICIOS  DE APOYO A LA GESTIÓN EN  LA PERSONERÍA DISTRITAL DE SANTIAGO DE CALI',\n",
       "       'PRESTAR LOS SERVICIOS PROFESIONALES S EN LA PERSONERIA DISTRITAL DE SANTIAGO DE CALI',\n",
       "       'PRESTAR LOS SERVICIOS DE APOYO A LA GESTION EN LA PERSONERIA DISTRITAL DE SANTIAGO DE CALI',\n",
       "       'PRESTAR LOS  SERVICIOS PROFESIONALES EN LA PERSONERIA DISTRITAL DE SANTIAGO DE CALI',\n",
       "       'PRESTAR LOS  SERVICIOS PROFESIONALES  EN LA PERSONERIA DISTRITAL DE SANTIAGO DE CALI',\n",
       "       'PRESTAR LOS SERVICIOS PROFESIONALES EN LA PERSONERIA DISTRITAL DE SANTIAGO DE CALI',\n",
       "       'PRESTAR LOS SERVICIOS  DE APOYO A LA GESTIÓN EN  LA PERSONERÍA DISTRITAL DE CALI',\n",
       "       'PRESTAR LOS SERVICIOS DE APOYO A LA GESTIÓN EN LA PERSONERÍA DISTRITAL DE CALI',\n",
       "       'PRESTAR LOS SERVICIOS PROFESIONALES ESPECIALIZADOS EN LA PERSONERIA DISTRITAL DE SANTIAGO DE CALI'],\n",
       "      dtype=object)"
      ]
     },
     "execution_count": 65,
     "metadata": {},
     "output_type": "execute_result"
    }
   ],
   "source": [
    "df_main['objeto_del_proceso'].unique()[:10]"
   ]
  },
  {
   "cell_type": "markdown",
   "id": "5bb55b60",
   "metadata": {},
   "source": [
    "###### Tipo_De_Contrato column"
   ]
  },
  {
   "cell_type": "code",
   "execution_count": 66,
   "id": "d7552484",
   "metadata": {},
   "outputs": [
    {
     "data": {
      "text/plain": [
       "array(['Prestación de servicios', 'Suministros', 'Compraventa', 'Otro'],\n",
       "      dtype=object)"
      ]
     },
     "execution_count": 66,
     "metadata": {},
     "output_type": "execute_result"
    }
   ],
   "source": [
    "df_main['tipo_de_contrato'].unique()"
   ]
  },
  {
   "cell_type": "code",
   "execution_count": 67,
   "id": "806c4a23",
   "metadata": {},
   "outputs": [],
   "source": [
    "df_main['tipo_de_contrato'] = df_main['tipo_de_contrato'].replace(\"Prestación de servicios\", \"Prestación de Servicios\")"
   ]
  },
  {
   "cell_type": "code",
   "execution_count": 68,
   "id": "96ddfb2a",
   "metadata": {},
   "outputs": [
    {
     "data": {
      "text/plain": [
       "array(['Prestación de Servicios', 'Suministros', 'Compraventa', 'Otro'],\n",
       "      dtype=object)"
      ]
     },
     "execution_count": 68,
     "metadata": {},
     "output_type": "execute_result"
    }
   ],
   "source": [
    "df_main['tipo_de_contrato'].unique()"
   ]
  },
  {
   "cell_type": "markdown",
   "id": "d58df6d3",
   "metadata": {},
   "source": [
    "###### As an additional step we must work on the null values that we have in the dataframe, given the context of the data and the source, it is vital to understand if we can perform data filling processes, if we put it in real life situation, we could support the areas that own the data, this to scale the null values and that can be filled with the greatest possible veracity, if this is not feasible, the ideal is to understand what would be the most feasible factor to not have the nulls."
   ]
  },
  {
   "cell_type": "code",
   "execution_count": 77,
   "id": "9c7a83ee",
   "metadata": {},
   "outputs": [],
   "source": [
    "df_main.rename(columns={'fecha_fin_ejecuci_n': 'fecha_fin_ejecución'}, inplace=True)\n",
    "df_main.rename(columns={'fecha_inicio_ejecuci_n': 'fecha_inicio_ejecución'}, inplace=True)"
   ]
  },
  {
   "cell_type": "markdown",
   "id": "808cdd41",
   "metadata": {},
   "source": [
    "###### We have two columns with nulls fecha_de_firma_del_contrato and fecha_fin_ejecución, so undertstand the context, we can complete this fecha_fin_ejecución columns using \"Undetermined\", understanding that the end date is empty because the project still continues, however the other column does not have the same luck therefore for this practical example we will divide them in two, in one part we will fill these nulls with a value X, in the other we will use an example of sending an alert to a dummy mail simulating that we are sending the data to the responsible area so that this manages to fill them or to make the validations, what we want in complement of our function of moving data using ETLs, is to have an integrity in the data from the beginning to the end, as this exercise is basic, we will not send it."
   ]
  },
  {
   "cell_type": "code",
   "execution_count": 78,
   "id": "60e50a70",
   "metadata": {},
   "outputs": [],
   "source": [
    "df_main['fecha_fin_ejecución'] = df_main['fecha_fin_ejecución'].fillna('Undetermined')\n",
    "df_main['fecha_inicio_ejecución'] = df_main['fecha_inicio_ejecución'].fillna('Undetermined')\n",
    "df_main['fecha_de_firma_del_contrato'] = df_main['fecha_de_firma_del_contrato'].fillna('En Revision')"
   ]
  },
  {
   "cell_type": "markdown",
   "id": "4fe77a06",
   "metadata": {},
   "source": [
    "###### As an additional step we will have to transform the dates to be compatible with the database engines."
   ]
  },
  {
   "cell_type": "code",
   "execution_count": 80,
   "id": "fa3602ca",
   "metadata": {},
   "outputs": [
    {
     "data": {
      "text/html": [
       "<div>\n",
       "<style scoped>\n",
       "    .dataframe tbody tr th:only-of-type {\n",
       "        vertical-align: middle;\n",
       "    }\n",
       "\n",
       "    .dataframe tbody tr th {\n",
       "        vertical-align: top;\n",
       "    }\n",
       "\n",
       "    .dataframe thead th {\n",
       "        text-align: right;\n",
       "    }\n",
       "</style>\n",
       "<table border=\"1\" class=\"dataframe\">\n",
       "  <thead>\n",
       "    <tr style=\"text-align: right;\">\n",
       "      <th></th>\n",
       "      <th>fecha_de_firma_del_contrato</th>\n",
       "      <th>fecha_fin_ejecución</th>\n",
       "      <th>fecha_inicio_ejecución</th>\n",
       "    </tr>\n",
       "  </thead>\n",
       "  <tbody>\n",
       "    <tr>\n",
       "      <th>0</th>\n",
       "      <td>2025-03-11T00:00:00.000</td>\n",
       "      <td>2025-04-30T00:00:00.000</td>\n",
       "      <td>Undetermined</td>\n",
       "    </tr>\n",
       "    <tr>\n",
       "      <th>1</th>\n",
       "      <td>2025-03-11T00:00:00.000</td>\n",
       "      <td>2025-05-31T00:00:00.000</td>\n",
       "      <td>2025-03-12T00:00:00.000</td>\n",
       "    </tr>\n",
       "    <tr>\n",
       "      <th>2</th>\n",
       "      <td>2025-03-10T00:00:00.000</td>\n",
       "      <td>2025-05-31T00:00:00.000</td>\n",
       "      <td>2025-03-11T00:00:00.000</td>\n",
       "    </tr>\n",
       "    <tr>\n",
       "      <th>3</th>\n",
       "      <td>2025-03-10T00:00:00.000</td>\n",
       "      <td>2025-05-31T00:00:00.000</td>\n",
       "      <td>2025-03-11T00:00:00.000</td>\n",
       "    </tr>\n",
       "    <tr>\n",
       "      <th>4</th>\n",
       "      <td>2025-03-11T00:00:00.000</td>\n",
       "      <td>2025-05-31T00:00:00.000</td>\n",
       "      <td>2025-03-12T00:00:00.000</td>\n",
       "    </tr>\n",
       "  </tbody>\n",
       "</table>\n",
       "</div>"
      ],
      "text/plain": [
       "  fecha_de_firma_del_contrato      fecha_fin_ejecución  \\\n",
       "0     2025-03-11T00:00:00.000  2025-04-30T00:00:00.000   \n",
       "1     2025-03-11T00:00:00.000  2025-05-31T00:00:00.000   \n",
       "2     2025-03-10T00:00:00.000  2025-05-31T00:00:00.000   \n",
       "3     2025-03-10T00:00:00.000  2025-05-31T00:00:00.000   \n",
       "4     2025-03-11T00:00:00.000  2025-05-31T00:00:00.000   \n",
       "\n",
       "    fecha_inicio_ejecución  \n",
       "0             Undetermined  \n",
       "1  2025-03-12T00:00:00.000  \n",
       "2  2025-03-11T00:00:00.000  \n",
       "3  2025-03-11T00:00:00.000  \n",
       "4  2025-03-12T00:00:00.000  "
      ]
     },
     "execution_count": 80,
     "metadata": {},
     "output_type": "execute_result"
    }
   ],
   "source": [
    "df_main[['fecha_de_firma_del_contrato', 'fecha_fin_ejecución', 'fecha_inicio_ejecución']].head()"
   ]
  },
  {
   "cell_type": "markdown",
   "id": "3f939c9f",
   "metadata": {},
   "source": [
    "###### As shown in the dataframe we have a wrong date format so when we move it to the final databases, this will cause problems when we want to filter or interact with the visualization tools, the solution is to understand what we have and start to transform it according to the known formats, also apply a DATE to finish standardizing the date."
   ]
  },
  {
   "cell_type": "code",
   "execution_count": null,
   "id": "9afe3e32",
   "metadata": {},
   "outputs": [],
   "source": [
    "df_main['fecha_de_firma_del_contrato'] = df_main['fecha_de_firma_del_contrato'].str.replace('T00:00:00.000', '', regex=False)\n",
    "df_main['fecha_fin_ejecución'] = df_main['fecha_fin_ejecución'].str.replace('T00:00:00.000', '', regex=False)\n",
    "df_main['fecha_inicio_ejecución'] = df_main['fecha_inicio_ejecución'].str.replace('T00:00:00.000', '', regex=False)"
   ]
  },
  {
   "cell_type": "markdown",
   "id": "16901ecf",
   "metadata": {},
   "source": [
    "###### We remove the following value T00:00:00:00.000 and find that we have a similar visual format."
   ]
  },
  {
   "cell_type": "code",
   "execution_count": 83,
   "id": "16183ed1",
   "metadata": {},
   "outputs": [
    {
     "data": {
      "text/html": [
       "<div>\n",
       "<style scoped>\n",
       "    .dataframe tbody tr th:only-of-type {\n",
       "        vertical-align: middle;\n",
       "    }\n",
       "\n",
       "    .dataframe tbody tr th {\n",
       "        vertical-align: top;\n",
       "    }\n",
       "\n",
       "    .dataframe thead th {\n",
       "        text-align: right;\n",
       "    }\n",
       "</style>\n",
       "<table border=\"1\" class=\"dataframe\">\n",
       "  <thead>\n",
       "    <tr style=\"text-align: right;\">\n",
       "      <th></th>\n",
       "      <th>fecha_de_firma_del_contrato</th>\n",
       "      <th>fecha_fin_ejecución</th>\n",
       "      <th>fecha_inicio_ejecución</th>\n",
       "    </tr>\n",
       "  </thead>\n",
       "  <tbody>\n",
       "    <tr>\n",
       "      <th>0</th>\n",
       "      <td>2025-03-11</td>\n",
       "      <td>2025-04-30</td>\n",
       "      <td>Undetermined</td>\n",
       "    </tr>\n",
       "    <tr>\n",
       "      <th>1</th>\n",
       "      <td>2025-03-11</td>\n",
       "      <td>2025-05-31</td>\n",
       "      <td>2025-03-12</td>\n",
       "    </tr>\n",
       "    <tr>\n",
       "      <th>2</th>\n",
       "      <td>2025-03-10</td>\n",
       "      <td>2025-05-31</td>\n",
       "      <td>2025-03-11</td>\n",
       "    </tr>\n",
       "    <tr>\n",
       "      <th>3</th>\n",
       "      <td>2025-03-10</td>\n",
       "      <td>2025-05-31</td>\n",
       "      <td>2025-03-11</td>\n",
       "    </tr>\n",
       "    <tr>\n",
       "      <th>4</th>\n",
       "      <td>2025-03-11</td>\n",
       "      <td>2025-05-31</td>\n",
       "      <td>2025-03-12</td>\n",
       "    </tr>\n",
       "  </tbody>\n",
       "</table>\n",
       "</div>"
      ],
      "text/plain": [
       "  fecha_de_firma_del_contrato fecha_fin_ejecución fecha_inicio_ejecución\n",
       "0                  2025-03-11          2025-04-30           Undetermined\n",
       "1                  2025-03-11          2025-05-31             2025-03-12\n",
       "2                  2025-03-10          2025-05-31             2025-03-11\n",
       "3                  2025-03-10          2025-05-31             2025-03-11\n",
       "4                  2025-03-11          2025-05-31             2025-03-12"
      ]
     },
     "execution_count": 83,
     "metadata": {},
     "output_type": "execute_result"
    }
   ],
   "source": [
    "df_main[['fecha_de_firma_del_contrato', 'fecha_fin_ejecución', 'fecha_inicio_ejecución']].head()"
   ]
  },
  {
   "cell_type": "markdown",
   "id": "1b1dcade",
   "metadata": {},
   "source": [
    "###### Then, we convert it to datetime"
   ]
  },
  {
   "cell_type": "code",
   "execution_count": null,
   "id": "2d0e49aa",
   "metadata": {},
   "outputs": [],
   "source": [
    "df_main['fecha_de_firma_del_contrato'] = pd.to_datetime(df_main['fecha_de_firma_del_contrato'], format='%Y-%m-%d', errors='coerce')\n",
    "df_main['fecha_fin_ejecución'] = pd.to_datetime(df_main['fecha_fin_ejecución'], format='%Y-%m-%d', errors='coerce')\n",
    "df_main['fecha_inicio_ejecución'] = pd.to_datetime(df_main['fecha_inicio_ejecución'], format='%Y-%m-%d', errors='coerce')"
   ]
  },
  {
   "cell_type": "markdown",
   "id": "07bb757e",
   "metadata": {},
   "source": [
    "###### And finally..."
   ]
  },
  {
   "cell_type": "code",
   "execution_count": 85,
   "id": "6178cdc8",
   "metadata": {},
   "outputs": [
    {
     "data": {
      "text/html": [
       "<div>\n",
       "<style scoped>\n",
       "    .dataframe tbody tr th:only-of-type {\n",
       "        vertical-align: middle;\n",
       "    }\n",
       "\n",
       "    .dataframe tbody tr th {\n",
       "        vertical-align: top;\n",
       "    }\n",
       "\n",
       "    .dataframe thead th {\n",
       "        text-align: right;\n",
       "    }\n",
       "</style>\n",
       "<table border=\"1\" class=\"dataframe\">\n",
       "  <thead>\n",
       "    <tr style=\"text-align: right;\">\n",
       "      <th></th>\n",
       "      <th>fecha_de_firma_del_contrato</th>\n",
       "      <th>fecha_fin_ejecución</th>\n",
       "      <th>fecha_inicio_ejecución</th>\n",
       "    </tr>\n",
       "  </thead>\n",
       "  <tbody>\n",
       "    <tr>\n",
       "      <th>0</th>\n",
       "      <td>2025-03-11</td>\n",
       "      <td>2025-04-30</td>\n",
       "      <td>NaT</td>\n",
       "    </tr>\n",
       "    <tr>\n",
       "      <th>1</th>\n",
       "      <td>2025-03-11</td>\n",
       "      <td>2025-05-31</td>\n",
       "      <td>2025-03-12</td>\n",
       "    </tr>\n",
       "    <tr>\n",
       "      <th>2</th>\n",
       "      <td>2025-03-10</td>\n",
       "      <td>2025-05-31</td>\n",
       "      <td>2025-03-11</td>\n",
       "    </tr>\n",
       "    <tr>\n",
       "      <th>3</th>\n",
       "      <td>2025-03-10</td>\n",
       "      <td>2025-05-31</td>\n",
       "      <td>2025-03-11</td>\n",
       "    </tr>\n",
       "    <tr>\n",
       "      <th>4</th>\n",
       "      <td>2025-03-11</td>\n",
       "      <td>2025-05-31</td>\n",
       "      <td>2025-03-12</td>\n",
       "    </tr>\n",
       "  </tbody>\n",
       "</table>\n",
       "</div>"
      ],
      "text/plain": [
       "  fecha_de_firma_del_contrato fecha_fin_ejecución fecha_inicio_ejecución\n",
       "0                  2025-03-11          2025-04-30                    NaT\n",
       "1                  2025-03-11          2025-05-31             2025-03-12\n",
       "2                  2025-03-10          2025-05-31             2025-03-11\n",
       "3                  2025-03-10          2025-05-31             2025-03-11\n",
       "4                  2025-03-11          2025-05-31             2025-03-12"
      ]
     },
     "execution_count": 85,
     "metadata": {},
     "output_type": "execute_result"
    }
   ],
   "source": [
    "df_main[['fecha_de_firma_del_contrato', 'fecha_fin_ejecución', 'fecha_inicio_ejecución']].head()"
   ]
  },
  {
   "cell_type": "markdown",
   "id": "de39ad18",
   "metadata": {},
   "source": [
    "###### So, the last step, depending on how the database is built or how the DB structure is, you must remove the garbage columns, for example, in this dataframe the url_contract column, it does not work for our activity because there is no way to show it in visualization tools, neither does it make a change if it takes you for an analysis, so we have to remove it."
   ]
  },
  {
   "cell_type": "code",
   "execution_count": null,
   "id": "d41b7947",
   "metadata": {},
   "outputs": [],
   "source": [
    "df_main.drop(columns=['url_contrato'], inplace=True)"
   ]
  },
  {
   "cell_type": "markdown",
   "id": "b4828d5b",
   "metadata": {},
   "source": [
    "###### Finally, this is our dataframe;"
   ]
  },
  {
   "cell_type": "code",
   "execution_count": 90,
   "id": "15a48cd9",
   "metadata": {},
   "outputs": [
    {
     "data": {
      "text/html": [
       "<div>\n",
       "<style scoped>\n",
       "    .dataframe tbody tr th:only-of-type {\n",
       "        vertical-align: middle;\n",
       "    }\n",
       "\n",
       "    .dataframe tbody tr th {\n",
       "        vertical-align: top;\n",
       "    }\n",
       "\n",
       "    .dataframe thead th {\n",
       "        text-align: right;\n",
       "    }\n",
       "</style>\n",
       "<table border=\"1\" class=\"dataframe\">\n",
       "  <thead>\n",
       "    <tr style=\"text-align: right;\">\n",
       "      <th></th>\n",
       "      <th>nivel_entidad</th>\n",
       "      <th>codigo_entidad_en_secop</th>\n",
       "      <th>nombre_de_la_entidad</th>\n",
       "      <th>nit_de_la_entidad</th>\n",
       "      <th>departamento_entidad</th>\n",
       "      <th>municipio_entidad</th>\n",
       "      <th>estado_del_proceso</th>\n",
       "      <th>modalidad_de_contratación</th>\n",
       "      <th>objeto_a_contratar</th>\n",
       "      <th>objeto_del_proceso</th>\n",
       "      <th>tipo_de_contrato</th>\n",
       "      <th>fecha_de_firma_del_contrato</th>\n",
       "      <th>fecha_fin_ejecución</th>\n",
       "      <th>numero_del_contrato</th>\n",
       "      <th>numero_de_proceso</th>\n",
       "      <th>valor_contrato</th>\n",
       "      <th>nom_raz_social_contratista</th>\n",
       "      <th>origen</th>\n",
       "      <th>tipo_documento_proveedor</th>\n",
       "      <th>documento_proveedor</th>\n",
       "      <th>fecha_inicio_ejecución</th>\n",
       "    </tr>\n",
       "  </thead>\n",
       "  <tbody>\n",
       "    <tr>\n",
       "      <th>0</th>\n",
       "      <td>Territorial</td>\n",
       "      <td>701511206</td>\n",
       "      <td>PERSONERIA DISTRITAL DE SANTIAGO DE CALI</td>\n",
       "      <td>805003895</td>\n",
       "      <td>Valle del Cauca</td>\n",
       "      <td>Cali</td>\n",
       "      <td>Activo</td>\n",
       "      <td>Mínima Cuantía</td>\n",
       "      <td>REALIZAR LA PUBLICACIÓN DE EDICTOS EN UN DIARIO DE AMPLIA CIRCULACIÓN</td>\n",
       "      <td>REALIZAR LA PUBLICACIÓN DE EDICTOS EN UN DIARIO DE AMPLIA CIRCULACIÓN</td>\n",
       "      <td>Prestación de Servicios</td>\n",
       "      <td>2025-03-11</td>\n",
       "      <td>2025-04-30</td>\n",
       "      <td>CO1.PCCNTR.7620665</td>\n",
       "      <td>131.7.1.2025.MC-154</td>\n",
       "      <td>800000</td>\n",
       "      <td>NUEVO DIARIO OCCIDENTE SAS</td>\n",
       "      <td>SECOPII</td>\n",
       "      <td>No Definido</td>\n",
       "      <td>805017188</td>\n",
       "      <td>NaT</td>\n",
       "    </tr>\n",
       "    <tr>\n",
       "      <th>1</th>\n",
       "      <td>Territorial</td>\n",
       "      <td>701511206</td>\n",
       "      <td>PERSONERIA DISTRITAL DE SANTIAGO DE CALI</td>\n",
       "      <td>805003895</td>\n",
       "      <td>Valle del Cauca</td>\n",
       "      <td>Cali</td>\n",
       "      <td>En Ejecución</td>\n",
       "      <td>No Definido</td>\n",
       "      <td>PRESTAR LOS SERVICIOS  DE APOYO A LA GESTIÓN EN  LA PERSONERÍA DISTRITAL DE SANTIAGO DE CALI</td>\n",
       "      <td>PRESTAR LOS SERVICIOS  DE APOYO A LA GESTIÓN EN  LA PERSONERÍA DISTRITAL DE SANTIAGO DE CALI</td>\n",
       "      <td>Prestación de Servicios</td>\n",
       "      <td>2025-03-11</td>\n",
       "      <td>2025-05-31</td>\n",
       "      <td>CO1.PCCNTR.7626699</td>\n",
       "      <td>131.7.1.2025.CD-161</td>\n",
       "      <td>7737000</td>\n",
       "      <td>Juan Carlos Martínez Bonilla</td>\n",
       "      <td>SECOPII</td>\n",
       "      <td>Cédula de Ciudadanía</td>\n",
       "      <td>1107529934</td>\n",
       "      <td>2025-03-12</td>\n",
       "    </tr>\n",
       "    <tr>\n",
       "      <th>2</th>\n",
       "      <td>Territorial</td>\n",
       "      <td>701511206</td>\n",
       "      <td>PERSONERIA DISTRITAL DE SANTIAGO DE CALI</td>\n",
       "      <td>805003895</td>\n",
       "      <td>Valle del Cauca</td>\n",
       "      <td>Cali</td>\n",
       "      <td>En Ejecución</td>\n",
       "      <td>Contratación Directa</td>\n",
       "      <td>PRESTAR LOS SERVICIOS PROFESIONALES S EN LA PERSONERIA DISTRITAL DE SANTIAGO DE CALI</td>\n",
       "      <td>PRESTAR LOS SERVICIOS PROFESIONALES S EN LA PERSONERIA DISTRITAL DE SANTIAGO DE CALI</td>\n",
       "      <td>Prestación de Servicios</td>\n",
       "      <td>2025-03-10</td>\n",
       "      <td>2025-05-31</td>\n",
       "      <td>CO1.PCCNTR.7626468</td>\n",
       "      <td>131.7.1.2025.CD-123</td>\n",
       "      <td>13314000</td>\n",
       "      <td>Harold Humberto Cairasco Calderón</td>\n",
       "      <td>SECOPII</td>\n",
       "      <td>Cédula de Ciudadanía</td>\n",
       "      <td>16804043</td>\n",
       "      <td>2025-03-11</td>\n",
       "    </tr>\n",
       "    <tr>\n",
       "      <th>3</th>\n",
       "      <td>Territorial</td>\n",
       "      <td>701511206</td>\n",
       "      <td>PERSONERIA DISTRITAL DE SANTIAGO DE CALI</td>\n",
       "      <td>805003895</td>\n",
       "      <td>Valle del Cauca</td>\n",
       "      <td>Cali</td>\n",
       "      <td>En Ejecución</td>\n",
       "      <td>Contratación Directa</td>\n",
       "      <td>PRESTAR LOS SERVICIOS DE APOYO A LA GESTION EN LA PERSONERIA DISTRITAL DE SANTIAGO DE CALI</td>\n",
       "      <td>PRESTAR LOS SERVICIOS DE APOYO A LA GESTION EN LA PERSONERIA DISTRITAL DE SANTIAGO DE CALI</td>\n",
       "      <td>Prestación de Servicios</td>\n",
       "      <td>2025-03-10</td>\n",
       "      <td>2025-05-31</td>\n",
       "      <td>CO1.PCCNTR.7626688</td>\n",
       "      <td>131.7.1.2025.CD-159</td>\n",
       "      <td>9840000</td>\n",
       "      <td>LEONARDO DELGADO LOPEZ</td>\n",
       "      <td>SECOPII</td>\n",
       "      <td>Cédula de Ciudadanía</td>\n",
       "      <td>94060109</td>\n",
       "      <td>2025-03-11</td>\n",
       "    </tr>\n",
       "    <tr>\n",
       "      <th>4</th>\n",
       "      <td>Territorial</td>\n",
       "      <td>701511206</td>\n",
       "      <td>PERSONERIA DISTRITAL DE SANTIAGO DE CALI</td>\n",
       "      <td>805003895</td>\n",
       "      <td>Valle del Cauca</td>\n",
       "      <td>Cali</td>\n",
       "      <td>En Ejecución</td>\n",
       "      <td>Contratación Directa</td>\n",
       "      <td>PRESTAR LOS  SERVICIOS PROFESIONALES EN LA PERSONERIA DISTRITAL DE SANTIAGO DE CALI</td>\n",
       "      <td>PRESTAR LOS  SERVICIOS PROFESIONALES EN LA PERSONERIA DISTRITAL DE SANTIAGO DE CALI</td>\n",
       "      <td>Prestación de Servicios</td>\n",
       "      <td>2025-03-11</td>\n",
       "      <td>2025-05-31</td>\n",
       "      <td>CO1.PCCNTR.7627306</td>\n",
       "      <td>131.7.1.2025.CD-162</td>\n",
       "      <td>15693000</td>\n",
       "      <td>Jaime Portocarrero Banguera</td>\n",
       "      <td>SECOPII</td>\n",
       "      <td>Cédula de Ciudadanía</td>\n",
       "      <td>10386217</td>\n",
       "      <td>2025-03-12</td>\n",
       "    </tr>\n",
       "  </tbody>\n",
       "</table>\n",
       "</div>"
      ],
      "text/plain": [
       "  nivel_entidad  codigo_entidad_en_secop  \\\n",
       "0   Territorial                701511206   \n",
       "1   Territorial                701511206   \n",
       "2   Territorial                701511206   \n",
       "3   Territorial                701511206   \n",
       "4   Territorial                701511206   \n",
       "\n",
       "                       nombre_de_la_entidad  nit_de_la_entidad  \\\n",
       "0  PERSONERIA DISTRITAL DE SANTIAGO DE CALI          805003895   \n",
       "1  PERSONERIA DISTRITAL DE SANTIAGO DE CALI          805003895   \n",
       "2  PERSONERIA DISTRITAL DE SANTIAGO DE CALI          805003895   \n",
       "3  PERSONERIA DISTRITAL DE SANTIAGO DE CALI          805003895   \n",
       "4  PERSONERIA DISTRITAL DE SANTIAGO DE CALI          805003895   \n",
       "\n",
       "  departamento_entidad municipio_entidad estado_del_proceso  \\\n",
       "0      Valle del Cauca              Cali             Activo   \n",
       "1      Valle del Cauca              Cali       En Ejecución   \n",
       "2      Valle del Cauca              Cali       En Ejecución   \n",
       "3      Valle del Cauca              Cali       En Ejecución   \n",
       "4      Valle del Cauca              Cali       En Ejecución   \n",
       "\n",
       "  modalidad_de_contratación  \\\n",
       "0            Mínima Cuantía   \n",
       "1               No Definido   \n",
       "2      Contratación Directa   \n",
       "3      Contratación Directa   \n",
       "4      Contratación Directa   \n",
       "\n",
       "                                                                             objeto_a_contratar  \\\n",
       "0                         REALIZAR LA PUBLICACIÓN DE EDICTOS EN UN DIARIO DE AMPLIA CIRCULACIÓN   \n",
       "1  PRESTAR LOS SERVICIOS  DE APOYO A LA GESTIÓN EN  LA PERSONERÍA DISTRITAL DE SANTIAGO DE CALI   \n",
       "2          PRESTAR LOS SERVICIOS PROFESIONALES S EN LA PERSONERIA DISTRITAL DE SANTIAGO DE CALI   \n",
       "3    PRESTAR LOS SERVICIOS DE APOYO A LA GESTION EN LA PERSONERIA DISTRITAL DE SANTIAGO DE CALI   \n",
       "4           PRESTAR LOS  SERVICIOS PROFESIONALES EN LA PERSONERIA DISTRITAL DE SANTIAGO DE CALI   \n",
       "\n",
       "                                                                             objeto_del_proceso  \\\n",
       "0                         REALIZAR LA PUBLICACIÓN DE EDICTOS EN UN DIARIO DE AMPLIA CIRCULACIÓN   \n",
       "1  PRESTAR LOS SERVICIOS  DE APOYO A LA GESTIÓN EN  LA PERSONERÍA DISTRITAL DE SANTIAGO DE CALI   \n",
       "2          PRESTAR LOS SERVICIOS PROFESIONALES S EN LA PERSONERIA DISTRITAL DE SANTIAGO DE CALI   \n",
       "3    PRESTAR LOS SERVICIOS DE APOYO A LA GESTION EN LA PERSONERIA DISTRITAL DE SANTIAGO DE CALI   \n",
       "4           PRESTAR LOS  SERVICIOS PROFESIONALES EN LA PERSONERIA DISTRITAL DE SANTIAGO DE CALI   \n",
       "\n",
       "          tipo_de_contrato fecha_de_firma_del_contrato fecha_fin_ejecución  \\\n",
       "0  Prestación de Servicios                  2025-03-11          2025-04-30   \n",
       "1  Prestación de Servicios                  2025-03-11          2025-05-31   \n",
       "2  Prestación de Servicios                  2025-03-10          2025-05-31   \n",
       "3  Prestación de Servicios                  2025-03-10          2025-05-31   \n",
       "4  Prestación de Servicios                  2025-03-11          2025-05-31   \n",
       "\n",
       "  numero_del_contrato    numero_de_proceso  valor_contrato  \\\n",
       "0  CO1.PCCNTR.7620665  131.7.1.2025.MC-154          800000   \n",
       "1  CO1.PCCNTR.7626699  131.7.1.2025.CD-161         7737000   \n",
       "2  CO1.PCCNTR.7626468  131.7.1.2025.CD-123        13314000   \n",
       "3  CO1.PCCNTR.7626688  131.7.1.2025.CD-159         9840000   \n",
       "4  CO1.PCCNTR.7627306  131.7.1.2025.CD-162        15693000   \n",
       "\n",
       "          nom_raz_social_contratista   origen tipo_documento_proveedor  \\\n",
       "0         NUEVO DIARIO OCCIDENTE SAS  SECOPII              No Definido   \n",
       "1       Juan Carlos Martínez Bonilla  SECOPII     Cédula de Ciudadanía   \n",
       "2  Harold Humberto Cairasco Calderón  SECOPII     Cédula de Ciudadanía   \n",
       "3             LEONARDO DELGADO LOPEZ  SECOPII     Cédula de Ciudadanía   \n",
       "4        Jaime Portocarrero Banguera  SECOPII     Cédula de Ciudadanía   \n",
       "\n",
       "  documento_proveedor fecha_inicio_ejecución  \n",
       "0           805017188                    NaT  \n",
       "1          1107529934             2025-03-12  \n",
       "2            16804043             2025-03-11  \n",
       "3            94060109             2025-03-11  \n",
       "4            10386217             2025-03-12  "
      ]
     },
     "execution_count": 90,
     "metadata": {},
     "output_type": "execute_result"
    }
   ],
   "source": [
    "df_main.head()"
   ]
  },
  {
   "cell_type": "markdown",
   "id": "a151c298",
   "metadata": {},
   "source": [
    "###### Now, we filter by the column modalidad_de_contratación, in order to simulate a separate shipment to separate tables or bases, we are going to filter it by different values and save it in csv."
   ]
  },
  {
   "cell_type": "markdown",
   "id": "db2b8740",
   "metadata": {},
   "source": [
    "###### So, remember the unique values in the columns;"
   ]
  },
  {
   "cell_type": "code",
   "execution_count": null,
   "id": "5d7df780",
   "metadata": {},
   "outputs": [
    {
     "data": {
      "text/plain": [
       "array(['Mínima Cuantía', 'No Definido', 'Contratación Directa',\n",
       "       'Selección Abreviada de Menor Cuantía',\n",
       "       'Selección Abreviada Subasta Inversa', 'Licitación Pública',\n",
       "       'Seleccion Abreviada Menor Cuantía Sin Manifestacion Interes'],\n",
       "      dtype=object)"
      ]
     },
     "execution_count": 91,
     "metadata": {},
     "output_type": "execute_result"
    }
   ],
   "source": [
    "df_main['modalidad_de_contratación'].unique()"
   ]
  },
  {
   "cell_type": "markdown",
   "id": "5c73b2f1",
   "metadata": {},
   "source": [
    "###### Lets separate them in three groups, \n",
    "###### Group #1: 'Mínima Cuantía', 'No Definido', 'Contratación Directa','Selección Abreviada de Menor Cuantía'\n",
    "###### Group #2: 'Selección Abreviada Subasta Inversa', 'Licitación Pública'\n",
    "###### Group #3: 'Seleccion Abreviada Menor Cuantía Sin Manifestacion Interes'"
   ]
  },
  {
   "cell_type": "code",
   "execution_count": 92,
   "id": "3cd8a1d1",
   "metadata": {},
   "outputs": [],
   "source": [
    "group_1 = ['Mínima Cuantía', 'No Definido', 'Contratación Directa', 'Selección Abreviada de Menor Cuantía']\n",
    "group_2 = ['Selección Abreviada Subasta Inversa', 'Licitación Pública']\n",
    "group_3 = ['Seleccion Abreviada Menor Cuantía Sin Manifestacion Interes']"
   ]
  },
  {
   "cell_type": "markdown",
   "id": "d61a5f78",
   "metadata": {},
   "source": [
    "###### Filtering the contents"
   ]
  },
  {
   "cell_type": "code",
   "execution_count": 94,
   "id": "d11a11cf",
   "metadata": {},
   "outputs": [],
   "source": [
    "df_group_1 = df_main[df_main['modalidad_de_contratación'].isin(group_1)]\n",
    "df_group_2 = df_main[df_main['modalidad_de_contratación'].isin(group_2)]\n",
    "df_group_3 = df_main[df_main['modalidad_de_contratación'].isin(group_3)]"
   ]
  },
  {
   "cell_type": "code",
   "execution_count": 96,
   "id": "7ee92aa2",
   "metadata": {},
   "outputs": [
    {
     "data": {
      "text/html": [
       "<div>\n",
       "<style scoped>\n",
       "    .dataframe tbody tr th:only-of-type {\n",
       "        vertical-align: middle;\n",
       "    }\n",
       "\n",
       "    .dataframe tbody tr th {\n",
       "        vertical-align: top;\n",
       "    }\n",
       "\n",
       "    .dataframe thead th {\n",
       "        text-align: right;\n",
       "    }\n",
       "</style>\n",
       "<table border=\"1\" class=\"dataframe\">\n",
       "  <thead>\n",
       "    <tr style=\"text-align: right;\">\n",
       "      <th></th>\n",
       "      <th>nivel_entidad</th>\n",
       "      <th>codigo_entidad_en_secop</th>\n",
       "      <th>nombre_de_la_entidad</th>\n",
       "      <th>nit_de_la_entidad</th>\n",
       "      <th>departamento_entidad</th>\n",
       "      <th>municipio_entidad</th>\n",
       "      <th>estado_del_proceso</th>\n",
       "      <th>modalidad_de_contratación</th>\n",
       "      <th>objeto_a_contratar</th>\n",
       "      <th>objeto_del_proceso</th>\n",
       "      <th>tipo_de_contrato</th>\n",
       "      <th>fecha_de_firma_del_contrato</th>\n",
       "      <th>fecha_fin_ejecución</th>\n",
       "      <th>numero_del_contrato</th>\n",
       "      <th>numero_de_proceso</th>\n",
       "      <th>valor_contrato</th>\n",
       "      <th>nom_raz_social_contratista</th>\n",
       "      <th>origen</th>\n",
       "      <th>tipo_documento_proveedor</th>\n",
       "      <th>documento_proveedor</th>\n",
       "      <th>fecha_inicio_ejecución</th>\n",
       "    </tr>\n",
       "  </thead>\n",
       "  <tbody>\n",
       "    <tr>\n",
       "      <th>0</th>\n",
       "      <td>Territorial</td>\n",
       "      <td>701511206</td>\n",
       "      <td>PERSONERIA DISTRITAL DE SANTIAGO DE CALI</td>\n",
       "      <td>805003895</td>\n",
       "      <td>Valle del Cauca</td>\n",
       "      <td>Cali</td>\n",
       "      <td>Activo</td>\n",
       "      <td>Mínima Cuantía</td>\n",
       "      <td>REALIZAR LA PUBLICACIÓN DE EDICTOS EN UN DIARIO DE AMPLIA CIRCULACIÓN</td>\n",
       "      <td>REALIZAR LA PUBLICACIÓN DE EDICTOS EN UN DIARIO DE AMPLIA CIRCULACIÓN</td>\n",
       "      <td>Prestación de Servicios</td>\n",
       "      <td>2025-03-11</td>\n",
       "      <td>2025-04-30</td>\n",
       "      <td>CO1.PCCNTR.7620665</td>\n",
       "      <td>131.7.1.2025.MC-154</td>\n",
       "      <td>800000</td>\n",
       "      <td>NUEVO DIARIO OCCIDENTE SAS</td>\n",
       "      <td>SECOPII</td>\n",
       "      <td>No Definido</td>\n",
       "      <td>805017188</td>\n",
       "      <td>NaT</td>\n",
       "    </tr>\n",
       "    <tr>\n",
       "      <th>1</th>\n",
       "      <td>Territorial</td>\n",
       "      <td>701511206</td>\n",
       "      <td>PERSONERIA DISTRITAL DE SANTIAGO DE CALI</td>\n",
       "      <td>805003895</td>\n",
       "      <td>Valle del Cauca</td>\n",
       "      <td>Cali</td>\n",
       "      <td>En Ejecución</td>\n",
       "      <td>No Definido</td>\n",
       "      <td>PRESTAR LOS SERVICIOS  DE APOYO A LA GESTIÓN EN  LA PERSONERÍA DISTRITAL DE SANTIAGO DE CALI</td>\n",
       "      <td>PRESTAR LOS SERVICIOS  DE APOYO A LA GESTIÓN EN  LA PERSONERÍA DISTRITAL DE SANTIAGO DE CALI</td>\n",
       "      <td>Prestación de Servicios</td>\n",
       "      <td>2025-03-11</td>\n",
       "      <td>2025-05-31</td>\n",
       "      <td>CO1.PCCNTR.7626699</td>\n",
       "      <td>131.7.1.2025.CD-161</td>\n",
       "      <td>7737000</td>\n",
       "      <td>Juan Carlos Martínez Bonilla</td>\n",
       "      <td>SECOPII</td>\n",
       "      <td>Cédula de Ciudadanía</td>\n",
       "      <td>1107529934</td>\n",
       "      <td>2025-03-12</td>\n",
       "    </tr>\n",
       "    <tr>\n",
       "      <th>2</th>\n",
       "      <td>Territorial</td>\n",
       "      <td>701511206</td>\n",
       "      <td>PERSONERIA DISTRITAL DE SANTIAGO DE CALI</td>\n",
       "      <td>805003895</td>\n",
       "      <td>Valle del Cauca</td>\n",
       "      <td>Cali</td>\n",
       "      <td>En Ejecución</td>\n",
       "      <td>Contratación Directa</td>\n",
       "      <td>PRESTAR LOS SERVICIOS PROFESIONALES S EN LA PERSONERIA DISTRITAL DE SANTIAGO DE CALI</td>\n",
       "      <td>PRESTAR LOS SERVICIOS PROFESIONALES S EN LA PERSONERIA DISTRITAL DE SANTIAGO DE CALI</td>\n",
       "      <td>Prestación de Servicios</td>\n",
       "      <td>2025-03-10</td>\n",
       "      <td>2025-05-31</td>\n",
       "      <td>CO1.PCCNTR.7626468</td>\n",
       "      <td>131.7.1.2025.CD-123</td>\n",
       "      <td>13314000</td>\n",
       "      <td>Harold Humberto Cairasco Calderón</td>\n",
       "      <td>SECOPII</td>\n",
       "      <td>Cédula de Ciudadanía</td>\n",
       "      <td>16804043</td>\n",
       "      <td>2025-03-11</td>\n",
       "    </tr>\n",
       "    <tr>\n",
       "      <th>3</th>\n",
       "      <td>Territorial</td>\n",
       "      <td>701511206</td>\n",
       "      <td>PERSONERIA DISTRITAL DE SANTIAGO DE CALI</td>\n",
       "      <td>805003895</td>\n",
       "      <td>Valle del Cauca</td>\n",
       "      <td>Cali</td>\n",
       "      <td>En Ejecución</td>\n",
       "      <td>Contratación Directa</td>\n",
       "      <td>PRESTAR LOS SERVICIOS DE APOYO A LA GESTION EN LA PERSONERIA DISTRITAL DE SANTIAGO DE CALI</td>\n",
       "      <td>PRESTAR LOS SERVICIOS DE APOYO A LA GESTION EN LA PERSONERIA DISTRITAL DE SANTIAGO DE CALI</td>\n",
       "      <td>Prestación de Servicios</td>\n",
       "      <td>2025-03-10</td>\n",
       "      <td>2025-05-31</td>\n",
       "      <td>CO1.PCCNTR.7626688</td>\n",
       "      <td>131.7.1.2025.CD-159</td>\n",
       "      <td>9840000</td>\n",
       "      <td>LEONARDO DELGADO LOPEZ</td>\n",
       "      <td>SECOPII</td>\n",
       "      <td>Cédula de Ciudadanía</td>\n",
       "      <td>94060109</td>\n",
       "      <td>2025-03-11</td>\n",
       "    </tr>\n",
       "    <tr>\n",
       "      <th>4</th>\n",
       "      <td>Territorial</td>\n",
       "      <td>701511206</td>\n",
       "      <td>PERSONERIA DISTRITAL DE SANTIAGO DE CALI</td>\n",
       "      <td>805003895</td>\n",
       "      <td>Valle del Cauca</td>\n",
       "      <td>Cali</td>\n",
       "      <td>En Ejecución</td>\n",
       "      <td>Contratación Directa</td>\n",
       "      <td>PRESTAR LOS  SERVICIOS PROFESIONALES EN LA PERSONERIA DISTRITAL DE SANTIAGO DE CALI</td>\n",
       "      <td>PRESTAR LOS  SERVICIOS PROFESIONALES EN LA PERSONERIA DISTRITAL DE SANTIAGO DE CALI</td>\n",
       "      <td>Prestación de Servicios</td>\n",
       "      <td>2025-03-11</td>\n",
       "      <td>2025-05-31</td>\n",
       "      <td>CO1.PCCNTR.7627306</td>\n",
       "      <td>131.7.1.2025.CD-162</td>\n",
       "      <td>15693000</td>\n",
       "      <td>Jaime Portocarrero Banguera</td>\n",
       "      <td>SECOPII</td>\n",
       "      <td>Cédula de Ciudadanía</td>\n",
       "      <td>10386217</td>\n",
       "      <td>2025-03-12</td>\n",
       "    </tr>\n",
       "  </tbody>\n",
       "</table>\n",
       "</div>"
      ],
      "text/plain": [
       "  nivel_entidad  codigo_entidad_en_secop  \\\n",
       "0   Territorial                701511206   \n",
       "1   Territorial                701511206   \n",
       "2   Territorial                701511206   \n",
       "3   Territorial                701511206   \n",
       "4   Territorial                701511206   \n",
       "\n",
       "                       nombre_de_la_entidad  nit_de_la_entidad  \\\n",
       "0  PERSONERIA DISTRITAL DE SANTIAGO DE CALI          805003895   \n",
       "1  PERSONERIA DISTRITAL DE SANTIAGO DE CALI          805003895   \n",
       "2  PERSONERIA DISTRITAL DE SANTIAGO DE CALI          805003895   \n",
       "3  PERSONERIA DISTRITAL DE SANTIAGO DE CALI          805003895   \n",
       "4  PERSONERIA DISTRITAL DE SANTIAGO DE CALI          805003895   \n",
       "\n",
       "  departamento_entidad municipio_entidad estado_del_proceso  \\\n",
       "0      Valle del Cauca              Cali             Activo   \n",
       "1      Valle del Cauca              Cali       En Ejecución   \n",
       "2      Valle del Cauca              Cali       En Ejecución   \n",
       "3      Valle del Cauca              Cali       En Ejecución   \n",
       "4      Valle del Cauca              Cali       En Ejecución   \n",
       "\n",
       "  modalidad_de_contratación  \\\n",
       "0            Mínima Cuantía   \n",
       "1               No Definido   \n",
       "2      Contratación Directa   \n",
       "3      Contratación Directa   \n",
       "4      Contratación Directa   \n",
       "\n",
       "                                                                             objeto_a_contratar  \\\n",
       "0                         REALIZAR LA PUBLICACIÓN DE EDICTOS EN UN DIARIO DE AMPLIA CIRCULACIÓN   \n",
       "1  PRESTAR LOS SERVICIOS  DE APOYO A LA GESTIÓN EN  LA PERSONERÍA DISTRITAL DE SANTIAGO DE CALI   \n",
       "2          PRESTAR LOS SERVICIOS PROFESIONALES S EN LA PERSONERIA DISTRITAL DE SANTIAGO DE CALI   \n",
       "3    PRESTAR LOS SERVICIOS DE APOYO A LA GESTION EN LA PERSONERIA DISTRITAL DE SANTIAGO DE CALI   \n",
       "4           PRESTAR LOS  SERVICIOS PROFESIONALES EN LA PERSONERIA DISTRITAL DE SANTIAGO DE CALI   \n",
       "\n",
       "                                                                             objeto_del_proceso  \\\n",
       "0                         REALIZAR LA PUBLICACIÓN DE EDICTOS EN UN DIARIO DE AMPLIA CIRCULACIÓN   \n",
       "1  PRESTAR LOS SERVICIOS  DE APOYO A LA GESTIÓN EN  LA PERSONERÍA DISTRITAL DE SANTIAGO DE CALI   \n",
       "2          PRESTAR LOS SERVICIOS PROFESIONALES S EN LA PERSONERIA DISTRITAL DE SANTIAGO DE CALI   \n",
       "3    PRESTAR LOS SERVICIOS DE APOYO A LA GESTION EN LA PERSONERIA DISTRITAL DE SANTIAGO DE CALI   \n",
       "4           PRESTAR LOS  SERVICIOS PROFESIONALES EN LA PERSONERIA DISTRITAL DE SANTIAGO DE CALI   \n",
       "\n",
       "          tipo_de_contrato fecha_de_firma_del_contrato fecha_fin_ejecución  \\\n",
       "0  Prestación de Servicios                  2025-03-11          2025-04-30   \n",
       "1  Prestación de Servicios                  2025-03-11          2025-05-31   \n",
       "2  Prestación de Servicios                  2025-03-10          2025-05-31   \n",
       "3  Prestación de Servicios                  2025-03-10          2025-05-31   \n",
       "4  Prestación de Servicios                  2025-03-11          2025-05-31   \n",
       "\n",
       "  numero_del_contrato    numero_de_proceso  valor_contrato  \\\n",
       "0  CO1.PCCNTR.7620665  131.7.1.2025.MC-154          800000   \n",
       "1  CO1.PCCNTR.7626699  131.7.1.2025.CD-161         7737000   \n",
       "2  CO1.PCCNTR.7626468  131.7.1.2025.CD-123        13314000   \n",
       "3  CO1.PCCNTR.7626688  131.7.1.2025.CD-159         9840000   \n",
       "4  CO1.PCCNTR.7627306  131.7.1.2025.CD-162        15693000   \n",
       "\n",
       "          nom_raz_social_contratista   origen tipo_documento_proveedor  \\\n",
       "0         NUEVO DIARIO OCCIDENTE SAS  SECOPII              No Definido   \n",
       "1       Juan Carlos Martínez Bonilla  SECOPII     Cédula de Ciudadanía   \n",
       "2  Harold Humberto Cairasco Calderón  SECOPII     Cédula de Ciudadanía   \n",
       "3             LEONARDO DELGADO LOPEZ  SECOPII     Cédula de Ciudadanía   \n",
       "4        Jaime Portocarrero Banguera  SECOPII     Cédula de Ciudadanía   \n",
       "\n",
       "  documento_proveedor fecha_inicio_ejecución  \n",
       "0           805017188                    NaT  \n",
       "1          1107529934             2025-03-12  \n",
       "2            16804043             2025-03-11  \n",
       "3            94060109             2025-03-11  \n",
       "4            10386217             2025-03-12  "
      ]
     },
     "execution_count": 96,
     "metadata": {},
     "output_type": "execute_result"
    }
   ],
   "source": [
    "df_group_1.head()"
   ]
  },
  {
   "cell_type": "code",
   "execution_count": 97,
   "id": "ab5c9c81",
   "metadata": {},
   "outputs": [
    {
     "data": {
      "text/html": [
       "<div>\n",
       "<style scoped>\n",
       "    .dataframe tbody tr th:only-of-type {\n",
       "        vertical-align: middle;\n",
       "    }\n",
       "\n",
       "    .dataframe tbody tr th {\n",
       "        vertical-align: top;\n",
       "    }\n",
       "\n",
       "    .dataframe thead th {\n",
       "        text-align: right;\n",
       "    }\n",
       "</style>\n",
       "<table border=\"1\" class=\"dataframe\">\n",
       "  <thead>\n",
       "    <tr style=\"text-align: right;\">\n",
       "      <th></th>\n",
       "      <th>nivel_entidad</th>\n",
       "      <th>codigo_entidad_en_secop</th>\n",
       "      <th>nombre_de_la_entidad</th>\n",
       "      <th>nit_de_la_entidad</th>\n",
       "      <th>departamento_entidad</th>\n",
       "      <th>municipio_entidad</th>\n",
       "      <th>estado_del_proceso</th>\n",
       "      <th>modalidad_de_contratación</th>\n",
       "      <th>objeto_a_contratar</th>\n",
       "      <th>objeto_del_proceso</th>\n",
       "      <th>tipo_de_contrato</th>\n",
       "      <th>fecha_de_firma_del_contrato</th>\n",
       "      <th>fecha_fin_ejecución</th>\n",
       "      <th>numero_del_contrato</th>\n",
       "      <th>numero_de_proceso</th>\n",
       "      <th>valor_contrato</th>\n",
       "      <th>nom_raz_social_contratista</th>\n",
       "      <th>origen</th>\n",
       "      <th>tipo_documento_proveedor</th>\n",
       "      <th>documento_proveedor</th>\n",
       "      <th>fecha_inicio_ejecución</th>\n",
       "    </tr>\n",
       "  </thead>\n",
       "  <tbody>\n",
       "    <tr>\n",
       "      <th>692</th>\n",
       "      <td>Territorial</td>\n",
       "      <td>701511206</td>\n",
       "      <td>PERSONERIA DISTRITAL DE SANTIAGO DE CALI</td>\n",
       "      <td>805003895</td>\n",
       "      <td>Valle del Cauca</td>\n",
       "      <td>Cali</td>\n",
       "      <td>En Ejecución</td>\n",
       "      <td>Selección Abreviada Subasta Inversa</td>\n",
       "      <td>LA ADQUISICIÓN CONSUMIBLES DE IMPRESIÓN CON DESTINO A LOS EQUIPOS PERIFÉRICOS DE LA PERSONERÍA DISTRITAL DE SANTIAGO DE CALI</td>\n",
       "      <td>LA ADQUISICIÓN CONSUMIBLES DE IMPRESIÓN CON DESTINO A LOS EQUIPOS PERIFÉRICOS DE LA PERSONERÍA DISTRITAL DE SANTIAGO DE CALI</td>\n",
       "      <td>Compraventa</td>\n",
       "      <td>2024-11-14</td>\n",
       "      <td>2024-12-14</td>\n",
       "      <td>CO1.PCCNTR.7014760</td>\n",
       "      <td>131.7.1.2024.465</td>\n",
       "      <td>121446100</td>\n",
       "      <td>REDOX COLOMBIA S.A.S.</td>\n",
       "      <td>SECOPII</td>\n",
       "      <td>No Definido</td>\n",
       "      <td>800078360</td>\n",
       "      <td>2024-11-18</td>\n",
       "    </tr>\n",
       "    <tr>\n",
       "      <th>1253</th>\n",
       "      <td>Territorial</td>\n",
       "      <td>701511206</td>\n",
       "      <td>PERSONERIA DISTRITAL DE SANTIAGO DE CALI</td>\n",
       "      <td>805003895</td>\n",
       "      <td>Valle del Cauca</td>\n",
       "      <td>Cali</td>\n",
       "      <td>Modificado</td>\n",
       "      <td>Licitación Pública</td>\n",
       "      <td>CONTRATAR LA PRESTACIÓN DE SERVICIOS PARA LA PROMOCIÓN PREVENCIÓN Y PROTECCIÓN DE LOS DERECHOS HUMANOS DERECHOS COLECTIVOS MINORÍAS Y MIGRANTES A TRAVES DE UNA OFICINA MOVIL PARA GARANTIZAR LA PRESENCIA INSTITUCIONAL EN EL DISTRITO DE SANTIAGO DE CALI.</td>\n",
       "      <td>CONTRATAR LA PRESTACIÓN DE SERVICIOS PARA LA PROMOCIÓN PREVENCIÓN Y PROTECCIÓN DE LOS DERECHOS HUMANOS DERECHOS COLECTIVOS MINORÍAS Y MIGRANTES A TRAVES DE UNA OFICINA MOVIL PARA GARANTIZAR LA PRESENCIA INSTITUCIONAL EN EL DISTRITO DE SANTIAGO DE CALI.</td>\n",
       "      <td>Prestación de Servicios</td>\n",
       "      <td>2023-04-10</td>\n",
       "      <td>2023-12-29</td>\n",
       "      <td>CO1.PCCNTR.4832871</td>\n",
       "      <td>131.7.1.2023.157</td>\n",
       "      <td>654769943</td>\n",
       "      <td>VICBAY SAS</td>\n",
       "      <td>SECOPII</td>\n",
       "      <td>No Definido</td>\n",
       "      <td>900384450</td>\n",
       "      <td>2023-04-12</td>\n",
       "    </tr>\n",
       "  </tbody>\n",
       "</table>\n",
       "</div>"
      ],
      "text/plain": [
       "     nivel_entidad  codigo_entidad_en_secop  \\\n",
       "692    Territorial                701511206   \n",
       "1253   Territorial                701511206   \n",
       "\n",
       "                          nombre_de_la_entidad  nit_de_la_entidad  \\\n",
       "692   PERSONERIA DISTRITAL DE SANTIAGO DE CALI          805003895   \n",
       "1253  PERSONERIA DISTRITAL DE SANTIAGO DE CALI          805003895   \n",
       "\n",
       "     departamento_entidad municipio_entidad estado_del_proceso  \\\n",
       "692       Valle del Cauca              Cali       En Ejecución   \n",
       "1253      Valle del Cauca              Cali         Modificado   \n",
       "\n",
       "                modalidad_de_contratación  \\\n",
       "692   Selección Abreviada Subasta Inversa   \n",
       "1253                   Licitación Pública   \n",
       "\n",
       "                                                                                                                                                                                                                                                objeto_a_contratar  \\\n",
       "692                                                                                                                                   LA ADQUISICIÓN CONSUMIBLES DE IMPRESIÓN CON DESTINO A LOS EQUIPOS PERIFÉRICOS DE LA PERSONERÍA DISTRITAL DE SANTIAGO DE CALI   \n",
       "1253  CONTRATAR LA PRESTACIÓN DE SERVICIOS PARA LA PROMOCIÓN PREVENCIÓN Y PROTECCIÓN DE LOS DERECHOS HUMANOS DERECHOS COLECTIVOS MINORÍAS Y MIGRANTES A TRAVES DE UNA OFICINA MOVIL PARA GARANTIZAR LA PRESENCIA INSTITUCIONAL EN EL DISTRITO DE SANTIAGO DE CALI.   \n",
       "\n",
       "                                                                                                                                                                                                                                                objeto_del_proceso  \\\n",
       "692                                                                                                                                   LA ADQUISICIÓN CONSUMIBLES DE IMPRESIÓN CON DESTINO A LOS EQUIPOS PERIFÉRICOS DE LA PERSONERÍA DISTRITAL DE SANTIAGO DE CALI   \n",
       "1253  CONTRATAR LA PRESTACIÓN DE SERVICIOS PARA LA PROMOCIÓN PREVENCIÓN Y PROTECCIÓN DE LOS DERECHOS HUMANOS DERECHOS COLECTIVOS MINORÍAS Y MIGRANTES A TRAVES DE UNA OFICINA MOVIL PARA GARANTIZAR LA PRESENCIA INSTITUCIONAL EN EL DISTRITO DE SANTIAGO DE CALI.   \n",
       "\n",
       "             tipo_de_contrato fecha_de_firma_del_contrato fecha_fin_ejecución  \\\n",
       "692               Compraventa                  2024-11-14          2024-12-14   \n",
       "1253  Prestación de Servicios                  2023-04-10          2023-12-29   \n",
       "\n",
       "     numero_del_contrato numero_de_proceso  valor_contrato  \\\n",
       "692   CO1.PCCNTR.7014760  131.7.1.2024.465       121446100   \n",
       "1253  CO1.PCCNTR.4832871  131.7.1.2023.157       654769943   \n",
       "\n",
       "     nom_raz_social_contratista   origen tipo_documento_proveedor  \\\n",
       "692       REDOX COLOMBIA S.A.S.  SECOPII              No Definido   \n",
       "1253                 VICBAY SAS  SECOPII              No Definido   \n",
       "\n",
       "     documento_proveedor fecha_inicio_ejecución  \n",
       "692            800078360             2024-11-18  \n",
       "1253           900384450             2023-04-12  "
      ]
     },
     "execution_count": 97,
     "metadata": {},
     "output_type": "execute_result"
    }
   ],
   "source": [
    "df_group_2.head()"
   ]
  },
  {
   "cell_type": "code",
   "execution_count": 98,
   "id": "7ed10883",
   "metadata": {},
   "outputs": [
    {
     "data": {
      "text/html": [
       "<div>\n",
       "<style scoped>\n",
       "    .dataframe tbody tr th:only-of-type {\n",
       "        vertical-align: middle;\n",
       "    }\n",
       "\n",
       "    .dataframe tbody tr th {\n",
       "        vertical-align: top;\n",
       "    }\n",
       "\n",
       "    .dataframe thead th {\n",
       "        text-align: right;\n",
       "    }\n",
       "</style>\n",
       "<table border=\"1\" class=\"dataframe\">\n",
       "  <thead>\n",
       "    <tr style=\"text-align: right;\">\n",
       "      <th></th>\n",
       "      <th>nivel_entidad</th>\n",
       "      <th>codigo_entidad_en_secop</th>\n",
       "      <th>nombre_de_la_entidad</th>\n",
       "      <th>nit_de_la_entidad</th>\n",
       "      <th>departamento_entidad</th>\n",
       "      <th>municipio_entidad</th>\n",
       "      <th>estado_del_proceso</th>\n",
       "      <th>modalidad_de_contratación</th>\n",
       "      <th>objeto_a_contratar</th>\n",
       "      <th>objeto_del_proceso</th>\n",
       "      <th>tipo_de_contrato</th>\n",
       "      <th>fecha_de_firma_del_contrato</th>\n",
       "      <th>fecha_fin_ejecución</th>\n",
       "      <th>numero_del_contrato</th>\n",
       "      <th>numero_de_proceso</th>\n",
       "      <th>valor_contrato</th>\n",
       "      <th>nom_raz_social_contratista</th>\n",
       "      <th>origen</th>\n",
       "      <th>tipo_documento_proveedor</th>\n",
       "      <th>documento_proveedor</th>\n",
       "      <th>fecha_inicio_ejecución</th>\n",
       "    </tr>\n",
       "  </thead>\n",
       "  <tbody>\n",
       "    <tr>\n",
       "      <th>1495</th>\n",
       "      <td>Territorial</td>\n",
       "      <td>701511206</td>\n",
       "      <td>PERSONERIA DISTRITAL DE SANTIAGO DE CALI</td>\n",
       "      <td>805003895</td>\n",
       "      <td>Valle del Cauca</td>\n",
       "      <td>Cali</td>\n",
       "      <td>Cerrado</td>\n",
       "      <td>Seleccion Abreviada Menor Cuantía Sin Manifestacion Interes</td>\n",
       "      <td>CONTRATAR LA PRESTACIÓN DE SERVICIOS PARA LA PROMOCIÓN PREVENCIÓN Y PROTECCIÓN DE LOS DERECHOS HUMANOS DERECHOS COLECTIVOS MINORÍAS Y MIGRANTES A TRAVES DE UNA OFICINA MOVIL PARA GARANTIZAR LA PRESENCIA INSTITUCIONAL EN EL DISTRITO DE SANTIAGO DE CALI</td>\n",
       "      <td>CONTRATAR LA PRESTACIÓN DE SERVICIOS PARA LA PROMOCIÓN PREVENCIÓN Y PROTECCIÓN DE LOS DERECHOS HUMANOS DERECHOS COLECTIVOS MINORÍAS Y MIGRANTES A TRAVES DE UNA OFICINA MOVIL PARA GARANTIZAR LA PRESENCIA INSTITUCIONAL EN EL DISTRITO DE SANTIAGO DE CALI</td>\n",
       "      <td>Prestación de Servicios</td>\n",
       "      <td>2022-09-20</td>\n",
       "      <td>2022-12-31</td>\n",
       "      <td>CO1.PCCNTR.4031294</td>\n",
       "      <td>131.7.1.2022.222</td>\n",
       "      <td>489448321</td>\n",
       "      <td>VICBAY SAS</td>\n",
       "      <td>SECOPII</td>\n",
       "      <td>No Definido</td>\n",
       "      <td>900384450</td>\n",
       "      <td>2022-09-26</td>\n",
       "    </tr>\n",
       "  </tbody>\n",
       "</table>\n",
       "</div>"
      ],
      "text/plain": [
       "     nivel_entidad  codigo_entidad_en_secop  \\\n",
       "1495   Territorial                701511206   \n",
       "\n",
       "                          nombre_de_la_entidad  nit_de_la_entidad  \\\n",
       "1495  PERSONERIA DISTRITAL DE SANTIAGO DE CALI          805003895   \n",
       "\n",
       "     departamento_entidad municipio_entidad estado_del_proceso  \\\n",
       "1495      Valle del Cauca              Cali            Cerrado   \n",
       "\n",
       "                                        modalidad_de_contratación  \\\n",
       "1495  Seleccion Abreviada Menor Cuantía Sin Manifestacion Interes   \n",
       "\n",
       "                                                                                                                                                                                                                                               objeto_a_contratar  \\\n",
       "1495  CONTRATAR LA PRESTACIÓN DE SERVICIOS PARA LA PROMOCIÓN PREVENCIÓN Y PROTECCIÓN DE LOS DERECHOS HUMANOS DERECHOS COLECTIVOS MINORÍAS Y MIGRANTES A TRAVES DE UNA OFICINA MOVIL PARA GARANTIZAR LA PRESENCIA INSTITUCIONAL EN EL DISTRITO DE SANTIAGO DE CALI   \n",
       "\n",
       "                                                                                                                                                                                                                                               objeto_del_proceso  \\\n",
       "1495  CONTRATAR LA PRESTACIÓN DE SERVICIOS PARA LA PROMOCIÓN PREVENCIÓN Y PROTECCIÓN DE LOS DERECHOS HUMANOS DERECHOS COLECTIVOS MINORÍAS Y MIGRANTES A TRAVES DE UNA OFICINA MOVIL PARA GARANTIZAR LA PRESENCIA INSTITUCIONAL EN EL DISTRITO DE SANTIAGO DE CALI   \n",
       "\n",
       "             tipo_de_contrato fecha_de_firma_del_contrato fecha_fin_ejecución  \\\n",
       "1495  Prestación de Servicios                  2022-09-20          2022-12-31   \n",
       "\n",
       "     numero_del_contrato numero_de_proceso  valor_contrato  \\\n",
       "1495  CO1.PCCNTR.4031294  131.7.1.2022.222       489448321   \n",
       "\n",
       "     nom_raz_social_contratista   origen tipo_documento_proveedor  \\\n",
       "1495                 VICBAY SAS  SECOPII              No Definido   \n",
       "\n",
       "     documento_proveedor fecha_inicio_ejecución  \n",
       "1495           900384450             2022-09-26  "
      ]
     },
     "execution_count": 98,
     "metadata": {},
     "output_type": "execute_result"
    }
   ],
   "source": [
    "df_group_3.head()"
   ]
  },
  {
   "cell_type": "markdown",
   "id": "d1f110b3",
   "metadata": {},
   "source": [
    "###### And send this groups to CSV Files"
   ]
  },
  {
   "cell_type": "code",
   "execution_count": 95,
   "id": "b208e4f6",
   "metadata": {},
   "outputs": [],
   "source": [
    "df_group_1.to_csv('grupo_1.csv', index=False)\n",
    "df_group_2.to_csv('grupo_2.csv', index=False)\n",
    "df_group_3.to_csv('grupo_3.csv', index=False)"
   ]
  },
  {
   "cell_type": "markdown",
   "id": "e14ceb26",
   "metadata": {},
   "source": [
    "###### As part of the exercise we simulate that these files will be manually uploaded to some database, so this process will be automatic, so you can connect to any API or other form of data interaction and have it processed."
   ]
  },
  {
   "cell_type": "markdown",
   "id": "db25ca17",
   "metadata": {},
   "source": [
    "###### And these are the final values"
   ]
  },
  {
   "cell_type": "code",
   "execution_count": 99,
   "id": "1d874660",
   "metadata": {},
   "outputs": [
    {
     "data": {
      "text/plain": [
       "(1941, 21)"
      ]
     },
     "execution_count": 99,
     "metadata": {},
     "output_type": "execute_result"
    }
   ],
   "source": [
    "df_main.shape"
   ]
  },
  {
   "cell_type": "code",
   "execution_count": 101,
   "id": "39f99466",
   "metadata": {},
   "outputs": [
    {
     "data": {
      "text/plain": [
       "(1938, 21)"
      ]
     },
     "execution_count": 101,
     "metadata": {},
     "output_type": "execute_result"
    }
   ],
   "source": [
    "df_group_1.shape"
   ]
  },
  {
   "cell_type": "code",
   "execution_count": 102,
   "id": "f12ffd65",
   "metadata": {},
   "outputs": [
    {
     "data": {
      "text/plain": [
       "(2, 21)"
      ]
     },
     "execution_count": 102,
     "metadata": {},
     "output_type": "execute_result"
    }
   ],
   "source": [
    "df_group_2.shape"
   ]
  },
  {
   "cell_type": "code",
   "execution_count": 103,
   "id": "a6bcdc8c",
   "metadata": {},
   "outputs": [
    {
     "data": {
      "text/plain": [
       "(1, 21)"
      ]
     },
     "execution_count": 103,
     "metadata": {},
     "output_type": "execute_result"
    }
   ],
   "source": [
    "df_group_3.shape"
   ]
  },
  {
   "cell_type": "markdown",
   "id": "6f7c310e",
   "metadata": {},
   "source": [
    "###### This is all, I hope it helps."
   ]
  }
 ],
 "metadata": {
  "kernelspec": {
   "display_name": "Python 3",
   "language": "python",
   "name": "python3"
  },
  "language_info": {
   "codemirror_mode": {
    "name": "ipython",
    "version": 3
   },
   "file_extension": ".py",
   "mimetype": "text/x-python",
   "name": "python",
   "nbconvert_exporter": "python",
   "pygments_lexer": "ipython3",
   "version": "3.10.5"
  }
 },
 "nbformat": 4,
 "nbformat_minor": 5
}
